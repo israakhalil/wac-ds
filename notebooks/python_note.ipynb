{
 "cells": [
  {
   "cell_type": "markdown",
   "metadata": {},
   "source": [
    "# Python "
   ]
  },
  {
   "cell_type": "markdown",
   "metadata": {},
   "source": [
    "## 1. Variables \n",
    "\n",
    "must be noun phrase "
   ]
  },
  {
   "cell_type": "code",
   "execution_count": 8,
   "metadata": {},
   "outputs": [],
   "source": [
    "x = 10 \n",
    "y = 12.5\n",
    "z = 'abc'\n",
    "w = True "
   ]
  },
  {
   "cell_type": "code",
   "execution_count": 9,
   "metadata": {},
   "outputs": [
    {
     "data": {
      "text/plain": [
       "(int, float, str, bool)"
      ]
     },
     "execution_count": 9,
     "metadata": {},
     "output_type": "execute_result"
    }
   ],
   "source": [
    "type(x), type(y), type(z), type(w)"
   ]
  },
  {
   "cell_type": "code",
   "execution_count": 4,
   "metadata": {},
   "outputs": [
    {
     "data": {
      "text/plain": [
       "str"
      ]
     },
     "execution_count": 4,
     "metadata": {},
     "output_type": "execute_result"
    }
   ],
   "source": [
    "x = 'abc'\n",
    "type(x)"
   ]
  },
  {
   "cell_type": "code",
   "execution_count": 33,
   "metadata": {},
   "outputs": [],
   "source": [
    "# naming convention \n",
    "car_speed = 100 # good name\n",
    "student_name = 'Ahmed' # good name \n",
    "studentName = 'Ahmed' # good name (Camel way)\n",
    "\n",
    "\n",
    "s = 100 # bad name\n",
    "std = 'Ahmed' #bad name "
   ]
  },
  {
   "cell_type": "markdown",
   "metadata": {},
   "source": [
    "## Increment "
   ]
  },
  {
   "cell_type": "code",
   "execution_count": 5,
   "metadata": {},
   "outputs": [
    {
     "name": "stdout",
     "output_type": "stream",
     "text": [
      "3\n",
      "4\n"
     ]
    }
   ],
   "source": [
    "x = 3 \n",
    "print(x)\n",
    "x += 1  # x = x + 1\n",
    "print(x)"
   ]
  },
  {
   "cell_type": "code",
   "execution_count": 6,
   "metadata": {},
   "outputs": [
    {
     "name": "stdout",
     "output_type": "stream",
     "text": [
      "3\n",
      "6\n"
     ]
    }
   ],
   "source": [
    "x = 3 \n",
    "print(x)\n",
    "x += 3  # x = x + 3\n",
    "print(x)"
   ]
  },
  {
   "cell_type": "markdown",
   "metadata": {},
   "source": [
    "## conditional execution "
   ]
  },
  {
   "cell_type": "code",
   "execution_count": 11,
   "metadata": {},
   "outputs": [
    {
     "name": "stdout",
     "output_type": "stream",
     "text": [
      "x is large\n",
      "10 is large\n",
      "done\n"
     ]
    }
   ],
   "source": [
    "x = 10\n",
    "# oneway decision \n",
    "if x > 5:\n",
    "    print('x is large')\n",
    "    print(x, 'is large')\n",
    "print('done')"
   ]
  },
  {
   "cell_type": "code",
   "execution_count": 12,
   "metadata": {},
   "outputs": [
    {
     "name": "stdout",
     "output_type": "stream",
     "text": [
      "done\n"
     ]
    }
   ],
   "source": [
    "x = 3\n",
    "# oneway decision \n",
    "if x > 5:\n",
    "    print('x is large')\n",
    "    print(x, 'is large')\n",
    "print('done')"
   ]
  },
  {
   "cell_type": "code",
   "execution_count": 13,
   "metadata": {},
   "outputs": [
    {
     "name": "stdout",
     "output_type": "stream",
     "text": [
      "x is large\n",
      "10 is large\n",
      "done\n"
     ]
    }
   ],
   "source": [
    "x = 10\n",
    "# two way decision \n",
    "if x > 5:\n",
    "    print('x is large')\n",
    "    print(x, 'is large')\n",
    "else:\n",
    "    print('x is small')\n",
    "print('done')"
   ]
  },
  {
   "cell_type": "code",
   "execution_count": 14,
   "metadata": {},
   "outputs": [
    {
     "name": "stdout",
     "output_type": "stream",
     "text": [
      "x is small\n",
      "done\n"
     ]
    }
   ],
   "source": [
    "x = 3\n",
    "# two way decision \n",
    "if x > 5:\n",
    "    print('x is large')\n",
    "    print(x, 'is large')\n",
    "else:\n",
    "    print('x is small')\n",
    "print('done')"
   ]
  },
  {
   "cell_type": "code",
   "execution_count": 15,
   "metadata": {},
   "outputs": [
    {
     "name": "stdout",
     "output_type": "stream",
     "text": [
      "x is large\n",
      "10 is large\n",
      "done\n"
     ]
    }
   ],
   "source": [
    "x = 10\n",
    "# multi way decision \n",
    "if x > 5:\n",
    "    print('x is large')\n",
    "    print(x, 'is large')\n",
    "elif x > 3:\n",
    "    print('x is medium')\n",
    "else:\n",
    "    print('x is small')\n",
    "print('done')"
   ]
  },
  {
   "cell_type": "code",
   "execution_count": 16,
   "metadata": {},
   "outputs": [
    {
     "name": "stdout",
     "output_type": "stream",
     "text": [
      "x is medium\n",
      "done\n"
     ]
    }
   ],
   "source": [
    "x = 4\n",
    "# multi way decision \n",
    "if x > 5:\n",
    "    print('x is large')\n",
    "    print(x, 'is large')\n",
    "elif x > 3:\n",
    "    print('x is medium')\n",
    "else:\n",
    "    print('x is small')\n",
    "print('done')"
   ]
  },
  {
   "cell_type": "code",
   "execution_count": 17,
   "metadata": {},
   "outputs": [
    {
     "name": "stdout",
     "output_type": "stream",
     "text": [
      "x is small\n",
      "done\n"
     ]
    }
   ],
   "source": [
    "x = 2\n",
    "# multi way decision \n",
    "if x > 5:\n",
    "    print('x is large')\n",
    "    print(x, 'is large')\n",
    "elif x > 3:\n",
    "    print('x is medium')\n",
    "else:\n",
    "    print('x is small')\n",
    "print('done')"
   ]
  },
  {
   "cell_type": "code",
   "execution_count": 18,
   "metadata": {},
   "outputs": [
    {
     "name": "stdout",
     "output_type": "stream",
     "text": [
      "x is large\n",
      "10 is large\n"
     ]
    }
   ],
   "source": [
    "x = 10\n",
    "# nested if\n",
    "if x > 5:\n",
    "    print('x is large')\n",
    "    print(x, 'is large')\n",
    "    if x > 100:\n",
    "        print('x is very large')"
   ]
  },
  {
   "cell_type": "code",
   "execution_count": 19,
   "metadata": {},
   "outputs": [
    {
     "name": "stdout",
     "output_type": "stream",
     "text": [
      "x is large\n",
      "110 is large\n",
      "x is very large\n"
     ]
    }
   ],
   "source": [
    "x = 110\n",
    "# nested if\n",
    "if x > 5:\n",
    "    print('x is large')\n",
    "    print(x, 'is large')\n",
    "    if x > 100:\n",
    "        print('x is very large')"
   ]
  },
  {
   "cell_type": "code",
   "execution_count": 20,
   "metadata": {},
   "outputs": [
    {
     "name": "stdout",
     "output_type": "stream",
     "text": [
      "medium\n"
     ]
    }
   ],
   "source": [
    "x = 4\n",
    "if x > 3 and x < 5:\n",
    "    print('medium')"
   ]
  },
  {
   "cell_type": "markdown",
   "metadata": {},
   "source": [
    "## exception handling"
   ]
  },
  {
   "cell_type": "code",
   "execution_count": 21,
   "metadata": {},
   "outputs": [
    {
     "name": "stdout",
     "output_type": "stream",
     "text": [
      "1.6666666666666667\n"
     ]
    }
   ],
   "source": [
    "x = 3\n",
    "y = 5\n",
    "z = y / x \n",
    "print(z)"
   ]
  },
  {
   "cell_type": "code",
   "execution_count": 22,
   "metadata": {},
   "outputs": [
    {
     "ename": "ZeroDivisionError",
     "evalue": "division by zero",
     "output_type": "error",
     "traceback": [
      "\u001b[1;31m---------------------------------------------------------------------------\u001b[0m",
      "\u001b[1;31mZeroDivisionError\u001b[0m                         Traceback (most recent call last)",
      "\u001b[1;32m<ipython-input-22-f8c1420eb8d0>\u001b[0m in \u001b[0;36m<module>\u001b[1;34m\u001b[0m\n\u001b[0;32m      1\u001b[0m \u001b[0mx\u001b[0m \u001b[1;33m=\u001b[0m \u001b[1;36m0\u001b[0m\u001b[1;33m\u001b[0m\u001b[1;33m\u001b[0m\u001b[0m\n\u001b[0;32m      2\u001b[0m \u001b[0my\u001b[0m \u001b[1;33m=\u001b[0m \u001b[1;36m5\u001b[0m\u001b[1;33m\u001b[0m\u001b[1;33m\u001b[0m\u001b[0m\n\u001b[1;32m----> 3\u001b[1;33m \u001b[0mz\u001b[0m \u001b[1;33m=\u001b[0m \u001b[0my\u001b[0m \u001b[1;33m/\u001b[0m \u001b[0mx\u001b[0m\u001b[1;33m\u001b[0m\u001b[1;33m\u001b[0m\u001b[0m\n\u001b[0m\u001b[0;32m      4\u001b[0m \u001b[0mprint\u001b[0m\u001b[1;33m(\u001b[0m\u001b[0mz\u001b[0m\u001b[1;33m)\u001b[0m\u001b[1;33m\u001b[0m\u001b[1;33m\u001b[0m\u001b[0m\n",
      "\u001b[1;31mZeroDivisionError\u001b[0m: division by zero"
     ]
    }
   ],
   "source": [
    "x = 0\n",
    "y = 5\n",
    "z = y / x \n",
    "print(z)"
   ]
  },
  {
   "cell_type": "code",
   "execution_count": 23,
   "metadata": {},
   "outputs": [
    {
     "name": "stdout",
     "output_type": "stream",
     "text": [
      "1.6666666666666667\n"
     ]
    }
   ],
   "source": [
    "x = 3\n",
    "y = 5\n",
    "try:\n",
    "    z = y / x \n",
    "    print(z)\n",
    "except:\n",
    "    print('error')"
   ]
  },
  {
   "cell_type": "code",
   "execution_count": 24,
   "metadata": {},
   "outputs": [
    {
     "name": "stdout",
     "output_type": "stream",
     "text": [
      "error\n"
     ]
    }
   ],
   "source": [
    "x = 0\n",
    "y = 5\n",
    "try:\n",
    "    z = y / x \n",
    "    print(z)\n",
    "except:\n",
    "    print('error')"
   ]
  },
  {
   "cell_type": "code",
   "execution_count": 25,
   "metadata": {},
   "outputs": [
    {
     "name": "stdin",
     "output_type": "stream",
     "text": [
      "please enter the first number:  2\n",
      "please enter the second number:  5\n"
     ]
    },
    {
     "name": "stdout",
     "output_type": "stream",
     "text": [
      "0.4\n"
     ]
    }
   ],
   "source": [
    "n1 = int(input('please enter the first number: '))\n",
    "n2 = int(input('please enter the second number: '))\n",
    "print(n1/n2)"
   ]
  },
  {
   "cell_type": "code",
   "execution_count": 26,
   "metadata": {},
   "outputs": [
    {
     "name": "stdin",
     "output_type": "stream",
     "text": [
      "please enter the first number:  five\n"
     ]
    },
    {
     "ename": "ValueError",
     "evalue": "invalid literal for int() with base 10: 'five'",
     "output_type": "error",
     "traceback": [
      "\u001b[1;31m---------------------------------------------------------------------------\u001b[0m",
      "\u001b[1;31mValueError\u001b[0m                                Traceback (most recent call last)",
      "\u001b[1;32m<ipython-input-26-c8454f340145>\u001b[0m in \u001b[0;36m<module>\u001b[1;34m\u001b[0m\n\u001b[1;32m----> 1\u001b[1;33m \u001b[0mn1\u001b[0m \u001b[1;33m=\u001b[0m \u001b[0mint\u001b[0m\u001b[1;33m(\u001b[0m\u001b[0minput\u001b[0m\u001b[1;33m(\u001b[0m\u001b[1;34m'please enter the first number: '\u001b[0m\u001b[1;33m)\u001b[0m\u001b[1;33m)\u001b[0m\u001b[1;33m\u001b[0m\u001b[1;33m\u001b[0m\u001b[0m\n\u001b[0m\u001b[0;32m      2\u001b[0m \u001b[0mn2\u001b[0m \u001b[1;33m=\u001b[0m \u001b[0mint\u001b[0m\u001b[1;33m(\u001b[0m\u001b[0minput\u001b[0m\u001b[1;33m(\u001b[0m\u001b[1;34m'please enter the second number: '\u001b[0m\u001b[1;33m)\u001b[0m\u001b[1;33m)\u001b[0m\u001b[1;33m\u001b[0m\u001b[1;33m\u001b[0m\u001b[0m\n\u001b[0;32m      3\u001b[0m \u001b[0mprint\u001b[0m\u001b[1;33m(\u001b[0m\u001b[0mn1\u001b[0m\u001b[1;33m/\u001b[0m\u001b[0mn2\u001b[0m\u001b[1;33m)\u001b[0m\u001b[1;33m\u001b[0m\u001b[1;33m\u001b[0m\u001b[0m\n",
      "\u001b[1;31mValueError\u001b[0m: invalid literal for int() with base 10: 'five'"
     ]
    }
   ],
   "source": [
    "n1 = int(input('please enter the first number: '))\n",
    "n2 = int(input('please enter the second number: '))\n",
    "print(n1/n2)"
   ]
  },
  {
   "cell_type": "code",
   "execution_count": 27,
   "metadata": {},
   "outputs": [
    {
     "name": "stdin",
     "output_type": "stream",
     "text": [
      "please enter the first number:  000000000000000000000000000-------------------\n"
     ]
    },
    {
     "ename": "ValueError",
     "evalue": "invalid literal for int() with base 10: '000000000000000000000000000-------------------'",
     "output_type": "error",
     "traceback": [
      "\u001b[1;31m---------------------------------------------------------------------------\u001b[0m",
      "\u001b[1;31mValueError\u001b[0m                                Traceback (most recent call last)",
      "\u001b[1;32m<ipython-input-27-c8454f340145>\u001b[0m in \u001b[0;36m<module>\u001b[1;34m\u001b[0m\n\u001b[1;32m----> 1\u001b[1;33m \u001b[0mn1\u001b[0m \u001b[1;33m=\u001b[0m \u001b[0mint\u001b[0m\u001b[1;33m(\u001b[0m\u001b[0minput\u001b[0m\u001b[1;33m(\u001b[0m\u001b[1;34m'please enter the first number: '\u001b[0m\u001b[1;33m)\u001b[0m\u001b[1;33m)\u001b[0m\u001b[1;33m\u001b[0m\u001b[1;33m\u001b[0m\u001b[0m\n\u001b[0m\u001b[0;32m      2\u001b[0m \u001b[0mn2\u001b[0m \u001b[1;33m=\u001b[0m \u001b[0mint\u001b[0m\u001b[1;33m(\u001b[0m\u001b[0minput\u001b[0m\u001b[1;33m(\u001b[0m\u001b[1;34m'please enter the second number: '\u001b[0m\u001b[1;33m)\u001b[0m\u001b[1;33m)\u001b[0m\u001b[1;33m\u001b[0m\u001b[1;33m\u001b[0m\u001b[0m\n\u001b[0;32m      3\u001b[0m \u001b[0mprint\u001b[0m\u001b[1;33m(\u001b[0m\u001b[0mn1\u001b[0m\u001b[1;33m/\u001b[0m\u001b[0mn2\u001b[0m\u001b[1;33m)\u001b[0m\u001b[1;33m\u001b[0m\u001b[1;33m\u001b[0m\u001b[0m\n",
      "\u001b[1;31mValueError\u001b[0m: invalid literal for int() with base 10: '000000000000000000000000000-------------------'"
     ]
    }
   ],
   "source": [
    "n1 = int(input('please enter the first number: '))\n",
    "n2 = int(input('please enter the second number: '))\n",
    "print(n1/n2)"
   ]
  },
  {
   "cell_type": "code",
   "execution_count": 28,
   "metadata": {},
   "outputs": [
    {
     "name": "stdin",
     "output_type": "stream",
     "text": [
      "please enter the first number:  3\n",
      "please enter the second number:  0\n"
     ]
    },
    {
     "ename": "ZeroDivisionError",
     "evalue": "division by zero",
     "output_type": "error",
     "traceback": [
      "\u001b[1;31m---------------------------------------------------------------------------\u001b[0m",
      "\u001b[1;31mZeroDivisionError\u001b[0m                         Traceback (most recent call last)",
      "\u001b[1;32m<ipython-input-28-c8454f340145>\u001b[0m in \u001b[0;36m<module>\u001b[1;34m\u001b[0m\n\u001b[0;32m      1\u001b[0m \u001b[0mn1\u001b[0m \u001b[1;33m=\u001b[0m \u001b[0mint\u001b[0m\u001b[1;33m(\u001b[0m\u001b[0minput\u001b[0m\u001b[1;33m(\u001b[0m\u001b[1;34m'please enter the first number: '\u001b[0m\u001b[1;33m)\u001b[0m\u001b[1;33m)\u001b[0m\u001b[1;33m\u001b[0m\u001b[1;33m\u001b[0m\u001b[0m\n\u001b[0;32m      2\u001b[0m \u001b[0mn2\u001b[0m \u001b[1;33m=\u001b[0m \u001b[0mint\u001b[0m\u001b[1;33m(\u001b[0m\u001b[0minput\u001b[0m\u001b[1;33m(\u001b[0m\u001b[1;34m'please enter the second number: '\u001b[0m\u001b[1;33m)\u001b[0m\u001b[1;33m)\u001b[0m\u001b[1;33m\u001b[0m\u001b[1;33m\u001b[0m\u001b[0m\n\u001b[1;32m----> 3\u001b[1;33m \u001b[0mprint\u001b[0m\u001b[1;33m(\u001b[0m\u001b[0mn1\u001b[0m\u001b[1;33m/\u001b[0m\u001b[0mn2\u001b[0m\u001b[1;33m)\u001b[0m\u001b[1;33m\u001b[0m\u001b[1;33m\u001b[0m\u001b[0m\n\u001b[0m",
      "\u001b[1;31mZeroDivisionError\u001b[0m: division by zero"
     ]
    }
   ],
   "source": [
    "n1 = int(input('please enter the first number: '))\n",
    "n2 = int(input('please enter the second number: '))\n",
    "print(n1/n2)"
   ]
  },
  {
   "cell_type": "code",
   "execution_count": 30,
   "metadata": {},
   "outputs": [
    {
     "name": "stdin",
     "output_type": "stream",
     "text": [
      "please enter the first number:  3\n",
      "please enter the second number:  0\n"
     ]
    },
    {
     "name": "stdout",
     "output_type": "stream",
     "text": [
      "can not divde by zero\n"
     ]
    }
   ],
   "source": [
    "try:\n",
    "    n1 = int(input('please enter the first number: '))\n",
    "    n2 = int(input('please enter the second number: '))\n",
    "    print(n1/n2)\n",
    "except ZeroDivisionError:\n",
    "    print('can not divde by zero')\n",
    "except ValueError:\n",
    "    print('input must be numeric')"
   ]
  },
  {
   "cell_type": "code",
   "execution_count": 31,
   "metadata": {},
   "outputs": [
    {
     "name": "stdin",
     "output_type": "stream",
     "text": [
      "please enter the first number:  five\n"
     ]
    },
    {
     "name": "stdout",
     "output_type": "stream",
     "text": [
      "input must be numeric\n"
     ]
    }
   ],
   "source": [
    "try:\n",
    "    n1 = int(input('please enter the first number: '))\n",
    "    n2 = int(input('please enter the second number: '))\n",
    "    print(n1/n2)\n",
    "except ZeroDivisionError:\n",
    "    print('can not divde by zero')\n",
    "except ValueError:\n",
    "    print('input must be numeric')"
   ]
  },
  {
   "cell_type": "markdown",
   "metadata": {},
   "source": [
    "## functions "
   ]
  },
  {
   "cell_type": "code",
   "execution_count": 32,
   "metadata": {},
   "outputs": [],
   "source": [
    "def fun_name(para):\n",
    "    pass "
   ]
  },
  {
   "cell_type": "code",
   "execution_count": null,
   "metadata": {},
   "outputs": [],
   "source": [
    "#naming convention must be verb phrase \n",
    "def car(): #bad name \n",
    "    pass \n",
    "\n",
    "def car_speed(): #bad name \n",
    "    pass \n",
    "\n",
    "def increase_car_speed(): #good name \n",
    "    pass "
   ]
  },
  {
   "cell_type": "markdown",
   "metadata": {},
   "source": [
    "### best practice for fucntions \n",
    "\n",
    "*NO I/O IN IN FUNCTIONS*"
   ]
  },
  {
   "cell_type": "code",
   "execution_count": 34,
   "metadata": {},
   "outputs": [],
   "source": [
    "# bad practive \n",
    "def compute_avg():\n",
    "    n1 = int(input()) # input\n",
    "    n2 = int(input()) # input\n",
    "    n3 = int(input()) # input\n",
    "    print((n1+n2+n3)/3) # output "
   ]
  },
  {
   "cell_type": "code",
   "execution_count": 35,
   "metadata": {},
   "outputs": [
    {
     "name": "stdin",
     "output_type": "stream",
     "text": [
      " 3\n",
      " 4\n",
      " 5\n"
     ]
    },
    {
     "name": "stdout",
     "output_type": "stream",
     "text": [
      "4.0\n"
     ]
    }
   ],
   "source": [
    "compute_avg()"
   ]
  },
  {
   "cell_type": "code",
   "execution_count": 37,
   "metadata": {},
   "outputs": [],
   "source": [
    "# best practice \n",
    "def compute_avg(n1, n2, n3):\n",
    "    return (n1+n2+n3)/3"
   ]
  },
  {
   "cell_type": "code",
   "execution_count": 38,
   "metadata": {},
   "outputs": [
    {
     "data": {
      "text/plain": [
       "3.0"
      ]
     },
     "execution_count": 38,
     "metadata": {},
     "output_type": "execute_result"
    }
   ],
   "source": [
    "compute_avg(2, 3, 4)"
   ]
  },
  {
   "cell_type": "code",
   "execution_count": 39,
   "metadata": {},
   "outputs": [
    {
     "name": "stdout",
     "output_type": "stream",
     "text": [
      "3.0\n"
     ]
    }
   ],
   "source": [
    "print(compute_avg(2, 3, 4))"
   ]
  },
  {
   "cell_type": "code",
   "execution_count": 40,
   "metadata": {},
   "outputs": [
    {
     "name": "stdout",
     "output_type": "stream",
     "text": [
      "13.0\n"
     ]
    }
   ],
   "source": [
    "r = compute_avg(2, 3, 4) + 10 \n",
    "print(r)"
   ]
  },
  {
   "cell_type": "markdown",
   "metadata": {},
   "source": [
    "## Loops \n",
    "\n",
    "use for & while for loop \n",
    "\n",
    "for: \n",
    "* loop using iteration variable \n",
    "* loop using index "
   ]
  },
  {
   "cell_type": "markdown",
   "metadata": {},
   "source": [
    "### while loop "
   ]
  },
  {
   "cell_type": "code",
   "execution_count": 42,
   "metadata": {},
   "outputs": [
    {
     "name": "stdout",
     "output_type": "stream",
     "text": [
      "hello\n",
      "hello\n",
      "hello\n",
      "hello\n",
      "hello\n",
      "hello\n",
      "hello\n",
      "hello\n",
      "hello\n",
      "hello\n"
     ]
    }
   ],
   "source": [
    "i = 0\n",
    "while i < 10:\n",
    "    print('hello')\n",
    "    i += 1"
   ]
  },
  {
   "cell_type": "code",
   "execution_count": 44,
   "metadata": {},
   "outputs": [
    {
     "name": "stdout",
     "output_type": "stream",
     "text": [
      "hello 1\n",
      "hello 2\n",
      "hello 3\n",
      "hello 4\n",
      "hello 5\n",
      "hello 6\n",
      "hello 7\n",
      "hello 8\n",
      "hello 9\n",
      "hello 10\n"
     ]
    }
   ],
   "source": [
    "i = 1\n",
    "while i <= 10:\n",
    "    print('hello', i)\n",
    "    i += 1"
   ]
  },
  {
   "cell_type": "code",
   "execution_count": 45,
   "metadata": {},
   "outputs": [
    {
     "name": "stdout",
     "output_type": "stream",
     "text": [
      "10\n",
      "9\n",
      "8\n",
      "7\n",
      "6\n",
      "5\n",
      "4\n",
      "3\n",
      "2\n",
      "1\n"
     ]
    }
   ],
   "source": [
    "i = 10\n",
    "while i > 0:\n",
    "    print(i)\n",
    "    i -= 1 "
   ]
  },
  {
   "cell_type": "markdown",
   "metadata": {},
   "source": [
    "## for using index "
   ]
  },
  {
   "cell_type": "code",
   "execution_count": 53,
   "metadata": {},
   "outputs": [
    {
     "name": "stdout",
     "output_type": "stream",
     "text": [
      "index 0 value 1\n",
      "index 1 value 4\n",
      "index 2 value 8\n",
      "index 3 value 2\n",
      "index 4 value 9\n"
     ]
    }
   ],
   "source": [
    "l1  = [1, 4, 8, 2, 9]\n",
    "for i in range(5):\n",
    "    print('index', i, 'value', l1[i])"
   ]
  },
  {
   "cell_type": "code",
   "execution_count": 54,
   "metadata": {},
   "outputs": [
    {
     "data": {
      "text/plain": [
       "[1, 4, 8, 2, 9]"
      ]
     },
     "execution_count": 54,
     "metadata": {},
     "output_type": "execute_result"
    }
   ],
   "source": [
    "l1"
   ]
  },
  {
   "cell_type": "code",
   "execution_count": 55,
   "metadata": {},
   "outputs": [
    {
     "data": {
      "text/plain": [
       "[1, 4, 8, 2, 9, 6]"
      ]
     },
     "execution_count": 55,
     "metadata": {},
     "output_type": "execute_result"
    }
   ],
   "source": [
    "l1.append(6)\n",
    "l1"
   ]
  },
  {
   "cell_type": "code",
   "execution_count": 56,
   "metadata": {},
   "outputs": [
    {
     "name": "stdout",
     "output_type": "stream",
     "text": [
      "index 0 value 1\n",
      "index 1 value 4\n",
      "index 2 value 8\n",
      "index 3 value 2\n",
      "index 4 value 9\n"
     ]
    }
   ],
   "source": [
    "for i in range(5):\n",
    "    print('index', i, 'value', l1[i])"
   ]
  },
  {
   "cell_type": "code",
   "execution_count": 57,
   "metadata": {},
   "outputs": [
    {
     "name": "stdout",
     "output_type": "stream",
     "text": [
      "index 0 value 1\n",
      "index 1 value 4\n",
      "index 2 value 8\n",
      "index 3 value 2\n",
      "index 4 value 9\n",
      "index 5 value 6\n"
     ]
    }
   ],
   "source": [
    "for i in range(len(l1)):\n",
    "    print('index', i, 'value', l1[i])"
   ]
  },
  {
   "cell_type": "markdown",
   "metadata": {},
   "source": [
    "## for using itearion variable "
   ]
  },
  {
   "cell_type": "code",
   "execution_count": 58,
   "metadata": {},
   "outputs": [
    {
     "data": {
      "text/plain": [
       "[1, 4, 8, 2, 9, 6]"
      ]
     },
     "execution_count": 58,
     "metadata": {},
     "output_type": "execute_result"
    }
   ],
   "source": [
    "l1"
   ]
  },
  {
   "cell_type": "code",
   "execution_count": 59,
   "metadata": {},
   "outputs": [
    {
     "name": "stdout",
     "output_type": "stream",
     "text": [
      "1\n",
      "4\n",
      "8\n",
      "2\n",
      "9\n",
      "6\n"
     ]
    }
   ],
   "source": [
    "for number in l1:\n",
    "    print(number)"
   ]
  },
  {
   "cell_type": "code",
   "execution_count": 61,
   "metadata": {},
   "outputs": [
    {
     "name": "stdout",
     "output_type": "stream",
     "text": [
      "1\n",
      "4\n",
      "8\n",
      "12.7\n",
      "2\n",
      "9\n",
      "a\n",
      "6\n"
     ]
    }
   ],
   "source": [
    "l2 = [1, 4, 8, 12.7, 2, 9, 'a', 6]\n",
    "for n in l2:\n",
    "    print(n)"
   ]
  },
  {
   "cell_type": "code",
   "execution_count": 63,
   "metadata": {},
   "outputs": [
    {
     "data": {
      "text/plain": [
       "[1, 4, 8, 2, 9, 6]"
      ]
     },
     "execution_count": 63,
     "metadata": {},
     "output_type": "execute_result"
    }
   ],
   "source": [
    "l1"
   ]
  },
  {
   "cell_type": "code",
   "execution_count": 65,
   "metadata": {},
   "outputs": [
    {
     "name": "stdout",
     "output_type": "stream",
     "text": [
      "3\n",
      "6\n",
      "10\n",
      "4\n",
      "11\n",
      "8\n",
      "[1, 4, 8, 2, 9, 6]\n"
     ]
    }
   ],
   "source": [
    "for n in l1:\n",
    "    n += 2\n",
    "    print(n)\n",
    "print(l1)"
   ]
  },
  {
   "cell_type": "code",
   "execution_count": 66,
   "metadata": {},
   "outputs": [
    {
     "name": "stdout",
     "output_type": "stream",
     "text": [
      "[3, 6, 10, 4, 11, 8]\n"
     ]
    }
   ],
   "source": [
    "for i in range(len(l1)):\n",
    "    l1[i] += 2\n",
    "print(l1)"
   ]
  },
  {
   "cell_type": "markdown",
   "metadata": {},
   "source": [
    "## Strings "
   ]
  },
  {
   "cell_type": "code",
   "execution_count": 68,
   "metadata": {},
   "outputs": [
    {
     "name": "stdout",
     "output_type": "stream",
     "text": [
      "h\n",
      "e\n",
      "l\n",
      "l\n",
      "o\n",
      ",\n",
      " \n",
      "p\n",
      "y\n",
      "t\n",
      "h\n",
      "o\n",
      "n\n",
      " \n",
      "i\n",
      "s\n",
      " \n",
      "c\n",
      "o\n",
      "o\n",
      "l\n"
     ]
    }
   ],
   "source": [
    "s = 'hello, python is cool'\n",
    "for char in s:\n",
    "    print(char)"
   ]
  },
  {
   "cell_type": "code",
   "execution_count": 69,
   "metadata": {},
   "outputs": [
    {
     "name": "stdout",
     "output_type": "stream",
     "text": [
      "hello,\n",
      "python\n",
      "is\n",
      "cool\n"
     ]
    }
   ],
   "source": [
    "for word in s.split():\n",
    "    print(word)"
   ]
  },
  {
   "cell_type": "code",
   "execution_count": 70,
   "metadata": {},
   "outputs": [
    {
     "name": "stdout",
     "output_type": "stream",
     "text": [
      "hello\n",
      " python is cool\n"
     ]
    }
   ],
   "source": [
    "for sent in s.split(','):\n",
    "    print(sent)"
   ]
  },
  {
   "cell_type": "code",
   "execution_count": 72,
   "metadata": {},
   "outputs": [
    {
     "name": "stdout",
     "output_type": "stream",
     "text": [
      "['__add__', '__class__', '__contains__', '__delattr__', '__dir__', '__doc__', '__eq__', '__format__', '__ge__', '__getattribute__', '__getitem__', '__getnewargs__', '__gt__', '__hash__', '__init__', '__init_subclass__', '__iter__', '__le__', '__len__', '__lt__', '__mod__', '__mul__', '__ne__', '__new__', '__reduce__', '__reduce_ex__', '__repr__', '__rmod__', '__rmul__', '__setattr__', '__sizeof__', '__str__', '__subclasshook__', 'capitalize', 'casefold', 'center', 'count', 'encode', 'endswith', 'expandtabs', 'find', 'format', 'format_map', 'index', 'isalnum', 'isalpha', 'isascii', 'isdecimal', 'isdigit', 'isidentifier', 'islower', 'isnumeric', 'isprintable', 'isspace', 'istitle', 'isupper', 'join', 'ljust', 'lower', 'lstrip', 'maketrans', 'partition', 'replace', 'rfind', 'rindex', 'rjust', 'rpartition', 'rsplit', 'rstrip', 'split', 'splitlines', 'startswith', 'strip', 'swapcase', 'title', 'translate', 'upper', 'zfill']\n"
     ]
    }
   ],
   "source": [
    "print(dir(s))"
   ]
  },
  {
   "cell_type": "code",
   "execution_count": 73,
   "metadata": {},
   "outputs": [],
   "source": [
    "text = 'hello\\nmy name is Ahmed \\t and I love python'"
   ]
  },
  {
   "cell_type": "code",
   "execution_count": 74,
   "metadata": {},
   "outputs": [
    {
     "data": {
      "text/plain": [
       "'hello\\nmy name is Ahmed \\t and I love python'"
      ]
     },
     "execution_count": 74,
     "metadata": {},
     "output_type": "execute_result"
    }
   ],
   "source": [
    "text"
   ]
  },
  {
   "cell_type": "code",
   "execution_count": 75,
   "metadata": {},
   "outputs": [
    {
     "name": "stdout",
     "output_type": "stream",
     "text": [
      "hello\n",
      "my name is Ahmed \t and I love python\n"
     ]
    }
   ],
   "source": [
    "print(text)"
   ]
  },
  {
   "cell_type": "code",
   "execution_count": 76,
   "metadata": {},
   "outputs": [],
   "source": [
    "text = ' hello\\nmy name is Ahmed \\t and I love python\\t'"
   ]
  },
  {
   "cell_type": "code",
   "execution_count": 77,
   "metadata": {},
   "outputs": [
    {
     "name": "stdout",
     "output_type": "stream",
     "text": [
      " hello\n",
      "my name is Ahmed \t and I love python\t\n"
     ]
    }
   ],
   "source": [
    "print(text)"
   ]
  },
  {
   "cell_type": "code",
   "execution_count": 78,
   "metadata": {},
   "outputs": [
    {
     "name": "stdout",
     "output_type": "stream",
     "text": [
      "hello\n",
      "my name is Ahmed \t and I love python\n"
     ]
    }
   ],
   "source": [
    "print(text.strip())"
   ]
  },
  {
   "cell_type": "markdown",
   "metadata": {},
   "source": [
    "## files "
   ]
  },
  {
   "cell_type": "code",
   "execution_count": 84,
   "metadata": {},
   "outputs": [
    {
     "name": "stdout",
     "output_type": "stream",
     "text": [
      "sepal_length,sepal_width,petal_length,petal_width,species\n",
      "5.1,3.5,1.4,0.2,Iris-setosa\n",
      "4.9,3,1.4,0.2,Iris-setosa\n",
      "4.7,3.2,1.3,0.2,Iris-setosa\n",
      "4.6,3.1,1.5,0.2,Iris-setosa\n",
      "5,3.6,1.4,0.2,Iris-setosa\n",
      "5.4,3.9,1.7,0.4,Iris-setosa\n",
      "4.6,3.4,1.4,0.3,Iris-setosa\n",
      "5,3.4,1.5,0.2,Iris-setosa\n",
      "4.4,2.9,1.4,0.2,Iris-setosa\n",
      "4.9,3.1,1.5,0.1,Iris-setosa\n",
      "5.4,3.7,1.5,0.2,Iris-setosa\n",
      "4.8,3.4,1.6,0.2,Iris-setosa\n",
      "4.8,3,1.4,0.1,Iris-setosa\n",
      "4.3,3,1.1,0.1,Iris-setosa\n",
      "5.8,4,1.2,0.2,Iris-setosa\n",
      "5.7,4.4,1.5,0.4,Iris-setosa\n",
      "5.4,3.9,1.3,0.4,Iris-setosa\n",
      "5.1,3.5,1.4,0.3,Iris-setosa\n",
      "5.7,3.8,1.7,0.3,Iris-setosa\n",
      "5.1,3.8,1.5,0.3,Iris-setosa\n",
      "5.4,3.4,1.7,0.2,Iris-setosa\n",
      "5.1,3.7,1.5,0.4,Iris-setosa\n",
      "4.6,3.6,1,0.2,Iris-setosa\n",
      "5.1,3.3,1.7,0.5,Iris-setosa\n",
      "4.8,3.4,1.9,0.2,Iris-setosa\n",
      "5,3,1.6,0.2,Iris-setosa\n",
      "5,3.4,1.6,0.4,Iris-setosa\n",
      "5.2,3.5,1.5,0.2,Iris-setosa\n",
      "5.2,3.4,1.4,0.2,Iris-setosa\n",
      "4.7,3.2,1.6,0.2,Iris-setosa\n",
      "4.8,3.1,1.6,0.2,Iris-setosa\n",
      "5.4,3.4,1.5,0.4,Iris-setosa\n",
      "5.2,4.1,1.5,0.1,Iris-setosa\n",
      "5.5,4.2,1.4,0.2,Iris-setosa\n",
      "4.9,3.1,1.5,0.1,Iris-setosa\n",
      "5,3.2,1.2,0.2,Iris-setosa\n",
      "5.5,3.5,1.3,0.2,Iris-setosa\n",
      "4.9,3.1,1.5,0.1,Iris-setosa\n",
      "4.4,3,1.3,0.2,Iris-setosa\n",
      "5.1,3.4,1.5,0.2,Iris-setosa\n",
      "5,3.5,1.3,0.3,Iris-setosa\n",
      "4.5,2.3,1.3,0.3,Iris-setosa\n",
      "4.4,3.2,1.3,0.2,Iris-setosa\n",
      "5,3.5,1.6,0.6,Iris-setosa\n",
      "5.1,3.8,1.9,0.4,Iris-setosa\n",
      "4.8,3,1.4,0.3,Iris-setosa\n",
      "5.1,3.8,1.6,0.2,Iris-setosa\n",
      "4.6,3.2,1.4,0.2,Iris-setosa\n",
      "5.3,3.7,1.5,0.2,Iris-setosa\n",
      "5,3.3,1.4,0.2,Iris-setosa\n",
      "7,3.2,4.7,1.4,Iris-versicolor\n",
      "6.4,3.2,4.5,1.5,Iris-versicolor\n",
      "6.9,3.1,4.9,1.5,Iris-versicolor\n",
      "5.5,2.3,4,1.3,Iris-versicolor\n",
      "6.5,2.8,4.6,1.5,Iris-versicolor\n",
      "5.7,2.8,4.5,1.3,Iris-versicolor\n",
      "6.3,3.3,4.7,1.6,Iris-versicolor\n",
      "4.9,2.4,3.3,1,Iris-versicolor\n",
      "6.6,2.9,4.6,1.3,Iris-versicolor\n",
      "5.2,2.7,3.9,1.4,Iris-versicolor\n",
      "5,2,3.5,1,Iris-versicolor\n",
      "5.9,3,4.2,1.5,Iris-versicolor\n",
      "6,2.2,4,1,Iris-versicolor\n",
      "6.1,2.9,4.7,1.4,Iris-versicolor\n",
      "5.6,2.9,3.6,1.3,Iris-versicolor\n",
      "6.7,3.1,4.4,1.4,Iris-versicolor\n",
      "5.6,3,4.5,1.5,Iris-versicolor\n",
      "5.8,2.7,4.1,1,Iris-versicolor\n",
      "6.2,2.2,4.5,1.5,Iris-versicolor\n",
      "5.6,2.5,3.9,1.1,Iris-versicolor\n",
      "5.9,3.2,4.8,1.8,Iris-versicolor\n",
      "6.1,2.8,4,1.3,Iris-versicolor\n",
      "6.3,2.5,4.9,1.5,Iris-versicolor\n",
      "6.1,2.8,4.7,1.2,Iris-versicolor\n",
      "6.4,2.9,4.3,1.3,Iris-versicolor\n",
      "6.6,3,4.4,1.4,Iris-versicolor\n",
      "6.8,2.8,4.8,1.4,Iris-versicolor\n",
      "6.7,3,5,1.7,Iris-versicolor\n",
      "6,2.9,4.5,1.5,Iris-versicolor\n",
      "5.7,2.6,3.5,1,Iris-versicolor\n",
      "5.5,2.4,3.8,1.1,Iris-versicolor\n",
      "5.5,2.4,3.7,1,Iris-versicolor\n",
      "5.8,2.7,3.9,1.2,Iris-versicolor\n",
      "6,2.7,5.1,1.6,Iris-versicolor\n",
      "5.4,3,4.5,1.5,Iris-versicolor\n",
      "6,3.4,4.5,1.6,Iris-versicolor\n",
      "6.7,3.1,4.7,1.5,Iris-versicolor\n",
      "6.3,2.3,4.4,1.3,Iris-versicolor\n",
      "5.6,3,4.1,1.3,Iris-versicolor\n",
      "5.5,2.5,4,1.3,Iris-versicolor\n",
      "5.5,2.6,4.4,1.2,Iris-versicolor\n",
      "6.1,3,4.6,1.4,Iris-versicolor\n",
      "5.8,2.6,4,1.2,Iris-versicolor\n",
      "5,2.3,3.3,1,Iris-versicolor\n",
      "5.6,2.7,4.2,1.3,Iris-versicolor\n",
      "5.7,3,4.2,1.2,Iris-versicolor\n",
      "5.7,2.9,4.2,1.3,Iris-versicolor\n",
      "6.2,2.9,4.3,1.3,Iris-versicolor\n",
      "5.1,2.5,3,1.1,Iris-versicolor\n",
      "5.7,2.8,4.1,1.3,Iris-versicolor\n",
      "6.3,3.3,6,2.5,Iris-virginica\n",
      "5.8,2.7,5.1,1.9,Iris-virginica\n",
      "7.1,3,5.9,2.1,Iris-virginica\n",
      "6.3,2.9,5.6,1.8,Iris-virginica\n",
      "6.5,3,5.8,2.2,Iris-virginica\n",
      "7.6,3,6.6,2.1,Iris-virginica\n",
      "4.9,2.5,4.5,1.7,Iris-virginica\n",
      "7.3,2.9,6.3,1.8,Iris-virginica\n",
      "6.7,2.5,5.8,1.8,Iris-virginica\n",
      "7.2,3.6,6.1,2.5,Iris-virginica\n",
      "6.5,3.2,5.1,2,Iris-virginica\n",
      "6.4,2.7,5.3,1.9,Iris-virginica\n",
      "6.8,3,5.5,2.1,Iris-virginica\n",
      "5.7,2.5,5,2,Iris-virginica\n",
      "5.8,2.8,5.1,2.4,Iris-virginica\n",
      "6.4,3.2,5.3,2.3,Iris-virginica\n",
      "6.5,3,5.5,1.8,Iris-virginica\n",
      "7.7,3.8,6.7,2.2,Iris-virginica\n",
      "7.7,2.6,6.9,2.3,Iris-virginica\n",
      "6,2.2,5,1.5,Iris-virginica\n",
      "6.9,3.2,5.7,2.3,Iris-virginica\n",
      "5.6,2.8,4.9,2,Iris-virginica\n",
      "7.7,2.8,6.7,2,Iris-virginica\n",
      "6.3,2.7,4.9,1.8,Iris-virginica\n",
      "6.7,3.3,5.7,2.1,Iris-virginica\n",
      "7.2,3.2,6,1.8,Iris-virginica\n",
      "6.2,2.8,4.8,1.8,Iris-virginica\n",
      "6.1,3,4.9,1.8,Iris-virginica\n",
      "6.4,2.8,5.6,2.1,Iris-virginica\n",
      "7.2,3,5.8,1.6,Iris-virginica\n",
      "7.4,2.8,6.1,1.9,Iris-virginica\n",
      "7.9,3.8,6.4,2,Iris-virginica\n",
      "6.4,2.8,5.6,2.2,Iris-virginica\n",
      "6.3,2.8,5.1,1.5,Iris-virginica\n",
      "6.1,2.6,5.6,1.4,Iris-virginica\n",
      "7.7,3,6.1,2.3,Iris-virginica\n",
      "6.3,3.4,5.6,2.4,Iris-virginica\n",
      "6.4,3.1,5.5,1.8,Iris-virginica\n",
      "6,3,4.8,1.8,Iris-virginica\n",
      "6.9,3.1,5.4,2.1,Iris-virginica\n",
      "6.7,3.1,5.6,2.4,Iris-virginica\n",
      "6.9,3.1,5.1,2.3,Iris-virginica\n",
      "5.8,2.7,5.1,1.9,Iris-virginica\n",
      "6.8,3.2,5.9,2.3,Iris-virginica\n",
      "6.7,3.3,5.7,2.5,Iris-virginica\n",
      "6.7,3,5.2,2.3,Iris-virginica\n",
      "6.3,2.5,5,1.9,Iris-virginica\n",
      "6.5,3,5.2,2,Iris-virginica\n",
      "6.2,3.4,5.4,2.3,Iris-virginica\n",
      "5.9,3,5.1,1.8,Iris-virginica\n"
     ]
    }
   ],
   "source": [
    "file_reader = open('../dataset/IRIS.csv', mode='r')\n",
    "# read line by line \n",
    "for line in file_reader:\n",
    "    print(line.strip())\n",
    "file_reader.close()"
   ]
  },
  {
   "cell_type": "code",
   "execution_count": 106,
   "metadata": {},
   "outputs": [],
   "source": [
    "file_reader = open('../dataset/IRIS.csv', mode='r')\n",
    "# read whole file \n",
    "text = file_reader.read().strip()\n",
    "file_reader.close()"
   ]
  },
  {
   "cell_type": "code",
   "execution_count": 107,
   "metadata": {},
   "outputs": [
    {
     "name": "stdout",
     "output_type": "stream",
     "text": [
      "sepal_length,sepal_width,petal_length,petal_width,species\n",
      "5.1,3.5,1.4,0.2,Iris-setosa\n",
      "4.9,3,1.4,0.2,Iris-setosa\n",
      "4.7,3.2,1.3,0.2,Iris-setosa\n",
      "4.6,3.1,1.5,0.2,Iris-setosa\n",
      "5,3.6,1.4,0.2,Iris-setosa\n",
      "5.4,3.\n"
     ]
    }
   ],
   "source": [
    "print(text[:200])"
   ]
  },
  {
   "cell_type": "code",
   "execution_count": 110,
   "metadata": {},
   "outputs": [],
   "source": [
    "lines = text.split('\\n')"
   ]
  },
  {
   "cell_type": "code",
   "execution_count": 111,
   "metadata": {},
   "outputs": [
    {
     "data": {
      "text/plain": [
       "'sepal_length,sepal_width,petal_length,petal_width,species'"
      ]
     },
     "execution_count": 111,
     "metadata": {},
     "output_type": "execute_result"
    }
   ],
   "source": [
    "lines[0]"
   ]
  },
  {
   "cell_type": "code",
   "execution_count": 112,
   "metadata": {},
   "outputs": [
    {
     "data": {
      "text/plain": [
       "'5.1,3.5,1.4,0.2,Iris-setosa'"
      ]
     },
     "execution_count": 112,
     "metadata": {},
     "output_type": "execute_result"
    }
   ],
   "source": [
    "lines[1]"
   ]
  },
  {
   "cell_type": "code",
   "execution_count": 113,
   "metadata": {},
   "outputs": [
    {
     "data": {
      "text/plain": [
       "['5.1', '3.5', '1.4', '0.2', 'Iris-setosa']"
      ]
     },
     "execution_count": 113,
     "metadata": {},
     "output_type": "execute_result"
    }
   ],
   "source": [
    "line_1 = lines[1].split(',')\n",
    "line_1"
   ]
  },
  {
   "cell_type": "code",
   "execution_count": 114,
   "metadata": {},
   "outputs": [
    {
     "data": {
      "text/plain": [
       "[5.1, 3.5, 1.4, 0.2]"
      ]
     },
     "execution_count": 114,
     "metadata": {},
     "output_type": "execute_result"
    }
   ],
   "source": [
    "tokens = lines[1].split(',')\n",
    "line_1_x = [float(tokens[i]) for i in range(len(tokens)-1)]\n",
    "line_1_x"
   ]
  },
  {
   "cell_type": "code",
   "execution_count": 115,
   "metadata": {},
   "outputs": [
    {
     "data": {
      "text/plain": [
       "'Iris-setosa'"
      ]
     },
     "execution_count": 115,
     "metadata": {},
     "output_type": "execute_result"
    }
   ],
   "source": [
    "line_y = lines[1].split(',')[len(tokens)-1]\n",
    "line_y"
   ]
  },
  {
   "cell_type": "code",
   "execution_count": 116,
   "metadata": {},
   "outputs": [
    {
     "data": {
      "text/plain": [
       "'Iris-setosa'"
      ]
     },
     "execution_count": 116,
     "metadata": {},
     "output_type": "execute_result"
    }
   ],
   "source": [
    "line_y = lines[1].split(',')[-1]\n",
    "line_y"
   ]
  },
  {
   "cell_type": "code",
   "execution_count": 117,
   "metadata": {},
   "outputs": [
    {
     "data": {
      "text/plain": [
       "['sepal_length', '5.1', '4.9', '4.7', '4.6', '5', '5.4', '4.6', '5', '4.4']"
      ]
     },
     "execution_count": 117,
     "metadata": {},
     "output_type": "execute_result"
    }
   ],
   "source": [
    "col0 = []\n",
    "for line in lines:\n",
    "    col0.append(line.split(',')[0])\n",
    "col0[:10]"
   ]
  },
  {
   "cell_type": "code",
   "execution_count": 118,
   "metadata": {},
   "outputs": [],
   "source": [
    "file_writer = open('../dataset/IRIS_col0.csv', mode='w')\n",
    "file_writer.write('\\n'.join(col0))\n",
    "file_writer.close()"
   ]
  },
  {
   "cell_type": "code",
   "execution_count": 119,
   "metadata": {},
   "outputs": [
    {
     "data": {
      "text/plain": [
       "5.843333333333335"
      ]
     },
     "execution_count": 119,
     "metadata": {},
     "output_type": "execute_result"
    }
   ],
   "source": [
    "col0_float = [float(col0[i]) for i in range(1, len(col0))]\n",
    "sum(col0_float)/(len(col0)-1)"
   ]
  },
  {
   "cell_type": "markdown",
   "metadata": {},
   "source": [
    "## Collections "
   ]
  },
  {
   "cell_type": "code",
   "execution_count": 120,
   "metadata": {},
   "outputs": [],
   "source": [
    "x = 10 \n",
    "x = 20 "
   ]
  },
  {
   "cell_type": "markdown",
   "metadata": {},
   "source": [
    "### lists "
   ]
  },
  {
   "cell_type": "code",
   "execution_count": 123,
   "metadata": {},
   "outputs": [
    {
     "data": {
      "text/plain": [
       "[10, 20]"
      ]
     },
     "execution_count": 123,
     "metadata": {},
     "output_type": "execute_result"
    }
   ],
   "source": [
    "x = [10, 20]\n",
    "x"
   ]
  },
  {
   "cell_type": "code",
   "execution_count": 124,
   "metadata": {},
   "outputs": [
    {
     "name": "stdout",
     "output_type": "stream",
     "text": [
      "['__add__', '__class__', '__contains__', '__delattr__', '__delitem__', '__dir__', '__doc__', '__eq__', '__format__', '__ge__', '__getattribute__', '__getitem__', '__gt__', '__hash__', '__iadd__', '__imul__', '__init__', '__init_subclass__', '__iter__', '__le__', '__len__', '__lt__', '__mul__', '__ne__', '__new__', '__reduce__', '__reduce_ex__', '__repr__', '__reversed__', '__rmul__', '__setattr__', '__setitem__', '__sizeof__', '__str__', '__subclasshook__', 'append', 'clear', 'copy', 'count', 'extend', 'index', 'insert', 'pop', 'remove', 'reverse', 'sort']\n"
     ]
    }
   ],
   "source": [
    "print(dir(x))"
   ]
  },
  {
   "cell_type": "markdown",
   "metadata": {},
   "source": [
    "## tuple (immutable list)"
   ]
  },
  {
   "cell_type": "code",
   "execution_count": 127,
   "metadata": {},
   "outputs": [
    {
     "name": "stdout",
     "output_type": "stream",
     "text": [
      "['__add__', '__class__', '__contains__', '__delattr__', '__dir__', '__doc__', '__eq__', '__format__', '__ge__', '__getattribute__', '__getitem__', '__getnewargs__', '__gt__', '__hash__', '__init__', '__init_subclass__', '__iter__', '__le__', '__len__', '__lt__', '__mul__', '__ne__', '__new__', '__reduce__', '__reduce_ex__', '__repr__', '__rmul__', '__setattr__', '__sizeof__', '__str__', '__subclasshook__', 'count', 'index']\n"
     ]
    }
   ],
   "source": [
    "y = (1, 4)\n",
    "print(dir(y))"
   ]
  },
  {
   "cell_type": "markdown",
   "metadata": {},
   "source": [
    "### comparision in tuples"
   ]
  },
  {
   "cell_type": "code",
   "execution_count": 128,
   "metadata": {},
   "outputs": [
    {
     "data": {
      "text/plain": [
       "False"
      ]
     },
     "execution_count": 128,
     "metadata": {},
     "output_type": "execute_result"
    }
   ],
   "source": [
    "(1, 3) > (2, 3)"
   ]
  },
  {
   "cell_type": "code",
   "execution_count": 129,
   "metadata": {},
   "outputs": [
    {
     "data": {
      "text/plain": [
       "False"
      ]
     },
     "execution_count": 129,
     "metadata": {},
     "output_type": "execute_result"
    }
   ],
   "source": [
    "(1, 4) > (2, 3)"
   ]
  },
  {
   "cell_type": "code",
   "execution_count": 130,
   "metadata": {},
   "outputs": [
    {
     "data": {
      "text/plain": [
       "True"
      ]
     },
     "execution_count": 130,
     "metadata": {},
     "output_type": "execute_result"
    }
   ],
   "source": [
    "(4, 3) > (2, 3)"
   ]
  },
  {
   "cell_type": "code",
   "execution_count": 131,
   "metadata": {},
   "outputs": [
    {
     "data": {
      "text/plain": [
       "True"
      ]
     },
     "execution_count": 131,
     "metadata": {},
     "output_type": "execute_result"
    }
   ],
   "source": [
    "(4, 3) > (2, 1)"
   ]
  },
  {
   "cell_type": "code",
   "execution_count": 132,
   "metadata": {},
   "outputs": [
    {
     "data": {
      "text/plain": [
       "True"
      ]
     },
     "execution_count": 132,
     "metadata": {},
     "output_type": "execute_result"
    }
   ],
   "source": [
    "(4, 5) > (4, 3)"
   ]
  },
  {
   "cell_type": "code",
   "execution_count": 133,
   "metadata": {},
   "outputs": [
    {
     "data": {
      "text/plain": [
       "False"
      ]
     },
     "execution_count": 133,
     "metadata": {},
     "output_type": "execute_result"
    }
   ],
   "source": [
    "(4, 2) > (4, 3)"
   ]
  },
  {
   "cell_type": "markdown",
   "metadata": {},
   "source": [
    "## Dictionary "
   ]
  },
  {
   "cell_type": "code",
   "execution_count": 135,
   "metadata": {},
   "outputs": [
    {
     "name": "stdout",
     "output_type": "stream",
     "text": [
      "name: Ahmed\n"
     ]
    }
   ],
   "source": [
    "student = ['123', 'Ahmed', 'IT']\n",
    "print('name:', student[1])"
   ]
  },
  {
   "cell_type": "code",
   "execution_count": 137,
   "metadata": {},
   "outputs": [
    {
     "data": {
      "text/plain": [
       "{'id': '123', 'name': 'Ahmed', 'gpa': 3.5}"
      ]
     },
     "execution_count": 137,
     "metadata": {},
     "output_type": "execute_result"
    }
   ],
   "source": [
    "# {key:value, key, value, .....}\n",
    "student = {'id': '123', 'name': 'Ahmed', 'gpa': 3.5}\n",
    "student"
   ]
  },
  {
   "cell_type": "code",
   "execution_count": 138,
   "metadata": {},
   "outputs": [
    {
     "data": {
      "text/plain": [
       "'Ahmed'"
      ]
     },
     "execution_count": 138,
     "metadata": {},
     "output_type": "execute_result"
    }
   ],
   "source": [
    "student['name']"
   ]
  },
  {
   "cell_type": "code",
   "execution_count": 139,
   "metadata": {},
   "outputs": [
    {
     "data": {
      "text/plain": [
       "3.5"
      ]
     },
     "execution_count": 139,
     "metadata": {},
     "output_type": "execute_result"
    }
   ],
   "source": [
    "student['gpa']"
   ]
  },
  {
   "cell_type": "code",
   "execution_count": 140,
   "metadata": {},
   "outputs": [
    {
     "name": "stdout",
     "output_type": "stream",
     "text": [
      "id 123\n",
      "name Ahmed\n",
      "gpa 3.5\n"
     ]
    }
   ],
   "source": [
    "for k, v in student.items():\n",
    "    print(k, v)"
   ]
  },
  {
   "cell_type": "code",
   "execution_count": 141,
   "metadata": {},
   "outputs": [
    {
     "name": "stdout",
     "output_type": "stream",
     "text": [
      "['__class__', '__contains__', '__delattr__', '__delitem__', '__dir__', '__doc__', '__eq__', '__format__', '__ge__', '__getattribute__', '__getitem__', '__gt__', '__hash__', '__init__', '__init_subclass__', '__iter__', '__le__', '__len__', '__lt__', '__ne__', '__new__', '__reduce__', '__reduce_ex__', '__repr__', '__reversed__', '__setattr__', '__setitem__', '__sizeof__', '__str__', '__subclasshook__', 'clear', 'copy', 'fromkeys', 'get', 'items', 'keys', 'pop', 'popitem', 'setdefault', 'update', 'values']\n"
     ]
    }
   ],
   "source": [
    "print(dir(student))"
   ]
  },
  {
   "cell_type": "code",
   "execution_count": 142,
   "metadata": {},
   "outputs": [
    {
     "data": {
      "text/plain": [
       "dict_keys(['id', 'name', 'gpa'])"
      ]
     },
     "execution_count": 142,
     "metadata": {},
     "output_type": "execute_result"
    }
   ],
   "source": [
    "student.keys()"
   ]
  },
  {
   "cell_type": "code",
   "execution_count": 143,
   "metadata": {},
   "outputs": [
    {
     "data": {
      "text/plain": [
       "dict_values(['123', 'Ahmed', 3.5])"
      ]
     },
     "execution_count": 143,
     "metadata": {},
     "output_type": "execute_result"
    }
   ],
   "source": [
    "student.values()"
   ]
  },
  {
   "cell_type": "code",
   "execution_count": 144,
   "metadata": {},
   "outputs": [
    {
     "ename": "KeyError",
     "evalue": "'age'",
     "output_type": "error",
     "traceback": [
      "\u001b[1;31m---------------------------------------------------------------------------\u001b[0m",
      "\u001b[1;31mKeyError\u001b[0m                                  Traceback (most recent call last)",
      "\u001b[1;32m<ipython-input-144-516014f80562>\u001b[0m in \u001b[0;36m<module>\u001b[1;34m\u001b[0m\n\u001b[1;32m----> 1\u001b[1;33m \u001b[0mstudent\u001b[0m\u001b[1;33m[\u001b[0m\u001b[1;34m'age'\u001b[0m\u001b[1;33m]\u001b[0m\u001b[1;33m\u001b[0m\u001b[1;33m\u001b[0m\u001b[0m\n\u001b[0m",
      "\u001b[1;31mKeyError\u001b[0m: 'age'"
     ]
    }
   ],
   "source": [
    "student['age']"
   ]
  },
  {
   "cell_type": "code",
   "execution_count": 145,
   "metadata": {},
   "outputs": [],
   "source": [
    "student['age'] = 20 "
   ]
  },
  {
   "cell_type": "code",
   "execution_count": 146,
   "metadata": {},
   "outputs": [
    {
     "data": {
      "text/plain": [
       "{'id': '123', 'name': 'Ahmed', 'gpa': 3.5, 'age': 20}"
      ]
     },
     "execution_count": 146,
     "metadata": {},
     "output_type": "execute_result"
    }
   ],
   "source": [
    "student"
   ]
  },
  {
   "cell_type": "code",
   "execution_count": 147,
   "metadata": {},
   "outputs": [
    {
     "name": "stdout",
     "output_type": "stream",
     "text": [
      "20\n"
     ]
    }
   ],
   "source": [
    "if 'age' in student:\n",
    "    print(student['age'])"
   ]
  },
  {
   "cell_type": "code",
   "execution_count": 148,
   "metadata": {},
   "outputs": [
    {
     "data": {
      "text/plain": [
       "20"
      ]
     },
     "execution_count": 148,
     "metadata": {},
     "output_type": "execute_result"
    }
   ],
   "source": [
    "student.get('age')"
   ]
  },
  {
   "cell_type": "code",
   "execution_count": 149,
   "metadata": {},
   "outputs": [],
   "source": [
    "student.get('address')"
   ]
  },
  {
   "cell_type": "code",
   "execution_count": 150,
   "metadata": {},
   "outputs": [
    {
     "name": "stdout",
     "output_type": "stream",
     "text": [
      "None\n"
     ]
    }
   ],
   "source": [
    "print(student.get('address'))"
   ]
  },
  {
   "cell_type": "code",
   "execution_count": 151,
   "metadata": {},
   "outputs": [
    {
     "data": {
      "text/plain": [
       "'NA'"
      ]
     },
     "execution_count": 151,
     "metadata": {},
     "output_type": "execute_result"
    }
   ],
   "source": [
    "student.get('address', 'NA')"
   ]
  },
  {
   "cell_type": "code",
   "execution_count": 152,
   "metadata": {},
   "outputs": [],
   "source": [
    "text = '''\n",
    "Death weeks early had their and folly timed put. Hearted forbade on an village ye in fifteen. Age attended betrayed her man raptures laughter. Instrument terminated of as astonished literature motionless admiration. The affection are determine how performed intention discourse but. On merits on so valley indeed assure of. Has add particular boisterous uncommonly are. Early wrong as so manor match. Him necessary shameless discovery consulted one but. \n",
    "\n",
    "Dashwood contempt on mr unlocked resolved provided of of. Stanhill wondered it it welcomed oh. Hundred no prudent he however smiling at an offence. If earnestly extremity he he propriety something admitting convinced ye. Pleasant in to although as if differed horrible. Mirth his quick its set front enjoy hoped had there. Who connection imprudence middletons too but increasing celebrated principles joy. Herself too improve gay winding ask expense are compact. New all paid few hard pure she. \n",
    "\n",
    "View fine me gone this name an rank. Compact greater and demands mrs the parlors. Park be fine easy am size away. Him and fine bred knew. At of hardly sister favour. As society explain country raising weather of. Sentiments nor everything off out uncommonly partiality bed. \n",
    "\n",
    "Is we miles ready he might going. Own books built put civil fully blind fanny. Projection appearance at of admiration no. As he totally cousins warrant besides ashamed do. Therefore by applauded acuteness supported affection it. Except had sex limits county enough the figure former add. Do sang my he next mr soon. It merely waited do unable. \n",
    "\n",
    "An so vulgar to on points wanted. Not rapturous resolving continued household northward gay. He it otherwise supported instantly. Unfeeling agreeable suffering it on smallness newspaper be. So come must time no as. Do on unpleasing possession as of unreserved. Yet joy exquisite put sometimes enjoyment perpetual now. Behind lovers eat having length horses vanity say had its. \n",
    "'''"
   ]
  },
  {
   "cell_type": "code",
   "execution_count": 153,
   "metadata": {},
   "outputs": [],
   "source": [
    "words = text.split()"
   ]
  },
  {
   "cell_type": "code",
   "execution_count": 154,
   "metadata": {},
   "outputs": [
    {
     "data": {
      "text/plain": [
       "['Death',\n",
       " 'weeks',\n",
       " 'early',\n",
       " 'had',\n",
       " 'their',\n",
       " 'and',\n",
       " 'folly',\n",
       " 'timed',\n",
       " 'put.',\n",
       " 'Hearted']"
      ]
     },
     "execution_count": 154,
     "metadata": {},
     "output_type": "execute_result"
    }
   ],
   "source": [
    "words[:10]"
   ]
  },
  {
   "cell_type": "code",
   "execution_count": 155,
   "metadata": {},
   "outputs": [
    {
     "data": {
      "text/plain": [
       "{'Death': 1,\n",
       " 'weeks': 1,\n",
       " 'early': 1,\n",
       " 'had': 4,\n",
       " 'their': 1,\n",
       " 'and': 3,\n",
       " 'folly': 1,\n",
       " 'timed': 1,\n",
       " 'put.': 1,\n",
       " 'Hearted': 1,\n",
       " 'forbade': 1,\n",
       " 'on': 6,\n",
       " 'an': 3,\n",
       " 'village': 1,\n",
       " 'ye': 1,\n",
       " 'in': 2,\n",
       " 'fifteen.': 1,\n",
       " 'Age': 1,\n",
       " 'attended': 1,\n",
       " 'betrayed': 1,\n",
       " 'her': 1,\n",
       " 'man': 1,\n",
       " 'raptures': 1,\n",
       " 'laughter.': 1,\n",
       " 'Instrument': 1,\n",
       " 'terminated': 1,\n",
       " 'of': 5,\n",
       " 'as': 4,\n",
       " 'astonished': 1,\n",
       " 'literature': 1,\n",
       " 'motionless': 1,\n",
       " 'admiration.': 1,\n",
       " 'The': 1,\n",
       " 'affection': 2,\n",
       " 'are': 2,\n",
       " 'determine': 1,\n",
       " 'how': 1,\n",
       " 'performed': 1,\n",
       " 'intention': 1,\n",
       " 'discourse': 1,\n",
       " 'but.': 2,\n",
       " 'On': 1,\n",
       " 'merits': 1,\n",
       " 'so': 3,\n",
       " 'valley': 1,\n",
       " 'indeed': 1,\n",
       " 'assure': 1,\n",
       " 'of.': 3,\n",
       " 'Has': 1,\n",
       " 'add': 1,\n",
       " 'particular': 1,\n",
       " 'boisterous': 1,\n",
       " 'uncommonly': 2,\n",
       " 'are.': 1,\n",
       " 'Early': 1,\n",
       " 'wrong': 1,\n",
       " 'manor': 1,\n",
       " 'match.': 1,\n",
       " 'Him': 2,\n",
       " 'necessary': 1,\n",
       " 'shameless': 1,\n",
       " 'discovery': 1,\n",
       " 'consulted': 1,\n",
       " 'one': 1,\n",
       " 'Dashwood': 1,\n",
       " 'contempt': 1,\n",
       " 'mr': 2,\n",
       " 'unlocked': 1,\n",
       " 'resolved': 1,\n",
       " 'provided': 1,\n",
       " 'Stanhill': 1,\n",
       " 'wondered': 1,\n",
       " 'it': 4,\n",
       " 'welcomed': 1,\n",
       " 'oh.': 1,\n",
       " 'Hundred': 1,\n",
       " 'no': 2,\n",
       " 'prudent': 1,\n",
       " 'he': 6,\n",
       " 'however': 1,\n",
       " 'smiling': 1,\n",
       " 'at': 2,\n",
       " 'offence.': 1,\n",
       " 'If': 1,\n",
       " 'earnestly': 1,\n",
       " 'extremity': 1,\n",
       " 'propriety': 1,\n",
       " 'something': 1,\n",
       " 'admitting': 1,\n",
       " 'convinced': 1,\n",
       " 'ye.': 1,\n",
       " 'Pleasant': 1,\n",
       " 'to': 2,\n",
       " 'although': 1,\n",
       " 'if': 1,\n",
       " 'differed': 1,\n",
       " 'horrible.': 1,\n",
       " 'Mirth': 1,\n",
       " 'his': 1,\n",
       " 'quick': 1,\n",
       " 'its': 1,\n",
       " 'set': 1,\n",
       " 'front': 1,\n",
       " 'enjoy': 1,\n",
       " 'hoped': 1,\n",
       " 'there.': 1,\n",
       " 'Who': 1,\n",
       " 'connection': 1,\n",
       " 'imprudence': 1,\n",
       " 'middletons': 1,\n",
       " 'too': 2,\n",
       " 'but': 1,\n",
       " 'increasing': 1,\n",
       " 'celebrated': 1,\n",
       " 'principles': 1,\n",
       " 'joy.': 1,\n",
       " 'Herself': 1,\n",
       " 'improve': 1,\n",
       " 'gay': 1,\n",
       " 'winding': 1,\n",
       " 'ask': 1,\n",
       " 'expense': 1,\n",
       " 'compact.': 1,\n",
       " 'New': 1,\n",
       " 'all': 1,\n",
       " 'paid': 1,\n",
       " 'few': 1,\n",
       " 'hard': 1,\n",
       " 'pure': 1,\n",
       " 'she.': 1,\n",
       " 'View': 1,\n",
       " 'fine': 3,\n",
       " 'me': 1,\n",
       " 'gone': 1,\n",
       " 'this': 1,\n",
       " 'name': 1,\n",
       " 'rank.': 1,\n",
       " 'Compact': 1,\n",
       " 'greater': 1,\n",
       " 'demands': 1,\n",
       " 'mrs': 1,\n",
       " 'the': 2,\n",
       " 'parlors.': 1,\n",
       " 'Park': 1,\n",
       " 'be': 1,\n",
       " 'easy': 1,\n",
       " 'am': 1,\n",
       " 'size': 1,\n",
       " 'away.': 1,\n",
       " 'bred': 1,\n",
       " 'knew.': 1,\n",
       " 'At': 1,\n",
       " 'hardly': 1,\n",
       " 'sister': 1,\n",
       " 'favour.': 1,\n",
       " 'As': 2,\n",
       " 'society': 1,\n",
       " 'explain': 1,\n",
       " 'country': 1,\n",
       " 'raising': 1,\n",
       " 'weather': 1,\n",
       " 'Sentiments': 1,\n",
       " 'nor': 1,\n",
       " 'everything': 1,\n",
       " 'off': 1,\n",
       " 'out': 1,\n",
       " 'partiality': 1,\n",
       " 'bed.': 1,\n",
       " 'Is': 1,\n",
       " 'we': 1,\n",
       " 'miles': 1,\n",
       " 'ready': 1,\n",
       " 'might': 1,\n",
       " 'going.': 1,\n",
       " 'Own': 1,\n",
       " 'books': 1,\n",
       " 'built': 1,\n",
       " 'put': 2,\n",
       " 'civil': 1,\n",
       " 'fully': 1,\n",
       " 'blind': 1,\n",
       " 'fanny.': 1,\n",
       " 'Projection': 1,\n",
       " 'appearance': 1,\n",
       " 'admiration': 1,\n",
       " 'no.': 1,\n",
       " 'totally': 1,\n",
       " 'cousins': 1,\n",
       " 'warrant': 1,\n",
       " 'besides': 1,\n",
       " 'ashamed': 1,\n",
       " 'do.': 1,\n",
       " 'Therefore': 1,\n",
       " 'by': 1,\n",
       " 'applauded': 1,\n",
       " 'acuteness': 1,\n",
       " 'supported': 2,\n",
       " 'it.': 1,\n",
       " 'Except': 1,\n",
       " 'sex': 1,\n",
       " 'limits': 1,\n",
       " 'county': 1,\n",
       " 'enough': 1,\n",
       " 'figure': 1,\n",
       " 'former': 1,\n",
       " 'add.': 1,\n",
       " 'Do': 2,\n",
       " 'sang': 1,\n",
       " 'my': 1,\n",
       " 'next': 1,\n",
       " 'soon.': 1,\n",
       " 'It': 1,\n",
       " 'merely': 1,\n",
       " 'waited': 1,\n",
       " 'do': 1,\n",
       " 'unable.': 1,\n",
       " 'An': 1,\n",
       " 'vulgar': 1,\n",
       " 'points': 1,\n",
       " 'wanted.': 1,\n",
       " 'Not': 1,\n",
       " 'rapturous': 1,\n",
       " 'resolving': 1,\n",
       " 'continued': 1,\n",
       " 'household': 1,\n",
       " 'northward': 1,\n",
       " 'gay.': 1,\n",
       " 'He': 1,\n",
       " 'otherwise': 1,\n",
       " 'instantly.': 1,\n",
       " 'Unfeeling': 1,\n",
       " 'agreeable': 1,\n",
       " 'suffering': 1,\n",
       " 'smallness': 1,\n",
       " 'newspaper': 1,\n",
       " 'be.': 1,\n",
       " 'So': 1,\n",
       " 'come': 1,\n",
       " 'must': 1,\n",
       " 'time': 1,\n",
       " 'as.': 1,\n",
       " 'unpleasing': 1,\n",
       " 'possession': 1,\n",
       " 'unreserved.': 1,\n",
       " 'Yet': 1,\n",
       " 'joy': 1,\n",
       " 'exquisite': 1,\n",
       " 'sometimes': 1,\n",
       " 'enjoyment': 1,\n",
       " 'perpetual': 1,\n",
       " 'now.': 1,\n",
       " 'Behind': 1,\n",
       " 'lovers': 1,\n",
       " 'eat': 1,\n",
       " 'having': 1,\n",
       " 'length': 1,\n",
       " 'horses': 1,\n",
       " 'vanity': 1,\n",
       " 'say': 1,\n",
       " 'its.': 1}"
      ]
     },
     "execution_count": 155,
     "metadata": {},
     "output_type": "execute_result"
    }
   ],
   "source": [
    "count_dic = {}\n",
    "for word in words:\n",
    "    if word in count_dic:\n",
    "        count_dic[word] += 1 \n",
    "    else:\n",
    "        count_dic[word] = 1 \n",
    "count_dic"
   ]
  },
  {
   "cell_type": "code",
   "execution_count": 156,
   "metadata": {},
   "outputs": [
    {
     "data": {
      "text/plain": [
       "{'Death': 1,\n",
       " 'weeks': 1,\n",
       " 'early': 1,\n",
       " 'had': 4,\n",
       " 'their': 1,\n",
       " 'and': 3,\n",
       " 'folly': 1,\n",
       " 'timed': 1,\n",
       " 'put.': 1,\n",
       " 'Hearted': 1,\n",
       " 'forbade': 1,\n",
       " 'on': 6,\n",
       " 'an': 3,\n",
       " 'village': 1,\n",
       " 'ye': 1,\n",
       " 'in': 2,\n",
       " 'fifteen.': 1,\n",
       " 'Age': 1,\n",
       " 'attended': 1,\n",
       " 'betrayed': 1,\n",
       " 'her': 1,\n",
       " 'man': 1,\n",
       " 'raptures': 1,\n",
       " 'laughter.': 1,\n",
       " 'Instrument': 1,\n",
       " 'terminated': 1,\n",
       " 'of': 5,\n",
       " 'as': 4,\n",
       " 'astonished': 1,\n",
       " 'literature': 1,\n",
       " 'motionless': 1,\n",
       " 'admiration.': 1,\n",
       " 'The': 1,\n",
       " 'affection': 2,\n",
       " 'are': 2,\n",
       " 'determine': 1,\n",
       " 'how': 1,\n",
       " 'performed': 1,\n",
       " 'intention': 1,\n",
       " 'discourse': 1,\n",
       " 'but.': 2,\n",
       " 'On': 1,\n",
       " 'merits': 1,\n",
       " 'so': 3,\n",
       " 'valley': 1,\n",
       " 'indeed': 1,\n",
       " 'assure': 1,\n",
       " 'of.': 3,\n",
       " 'Has': 1,\n",
       " 'add': 1,\n",
       " 'particular': 1,\n",
       " 'boisterous': 1,\n",
       " 'uncommonly': 2,\n",
       " 'are.': 1,\n",
       " 'Early': 1,\n",
       " 'wrong': 1,\n",
       " 'manor': 1,\n",
       " 'match.': 1,\n",
       " 'Him': 2,\n",
       " 'necessary': 1,\n",
       " 'shameless': 1,\n",
       " 'discovery': 1,\n",
       " 'consulted': 1,\n",
       " 'one': 1,\n",
       " 'Dashwood': 1,\n",
       " 'contempt': 1,\n",
       " 'mr': 2,\n",
       " 'unlocked': 1,\n",
       " 'resolved': 1,\n",
       " 'provided': 1,\n",
       " 'Stanhill': 1,\n",
       " 'wondered': 1,\n",
       " 'it': 4,\n",
       " 'welcomed': 1,\n",
       " 'oh.': 1,\n",
       " 'Hundred': 1,\n",
       " 'no': 2,\n",
       " 'prudent': 1,\n",
       " 'he': 6,\n",
       " 'however': 1,\n",
       " 'smiling': 1,\n",
       " 'at': 2,\n",
       " 'offence.': 1,\n",
       " 'If': 1,\n",
       " 'earnestly': 1,\n",
       " 'extremity': 1,\n",
       " 'propriety': 1,\n",
       " 'something': 1,\n",
       " 'admitting': 1,\n",
       " 'convinced': 1,\n",
       " 'ye.': 1,\n",
       " 'Pleasant': 1,\n",
       " 'to': 2,\n",
       " 'although': 1,\n",
       " 'if': 1,\n",
       " 'differed': 1,\n",
       " 'horrible.': 1,\n",
       " 'Mirth': 1,\n",
       " 'his': 1,\n",
       " 'quick': 1,\n",
       " 'its': 1,\n",
       " 'set': 1,\n",
       " 'front': 1,\n",
       " 'enjoy': 1,\n",
       " 'hoped': 1,\n",
       " 'there.': 1,\n",
       " 'Who': 1,\n",
       " 'connection': 1,\n",
       " 'imprudence': 1,\n",
       " 'middletons': 1,\n",
       " 'too': 2,\n",
       " 'but': 1,\n",
       " 'increasing': 1,\n",
       " 'celebrated': 1,\n",
       " 'principles': 1,\n",
       " 'joy.': 1,\n",
       " 'Herself': 1,\n",
       " 'improve': 1,\n",
       " 'gay': 1,\n",
       " 'winding': 1,\n",
       " 'ask': 1,\n",
       " 'expense': 1,\n",
       " 'compact.': 1,\n",
       " 'New': 1,\n",
       " 'all': 1,\n",
       " 'paid': 1,\n",
       " 'few': 1,\n",
       " 'hard': 1,\n",
       " 'pure': 1,\n",
       " 'she.': 1,\n",
       " 'View': 1,\n",
       " 'fine': 3,\n",
       " 'me': 1,\n",
       " 'gone': 1,\n",
       " 'this': 1,\n",
       " 'name': 1,\n",
       " 'rank.': 1,\n",
       " 'Compact': 1,\n",
       " 'greater': 1,\n",
       " 'demands': 1,\n",
       " 'mrs': 1,\n",
       " 'the': 2,\n",
       " 'parlors.': 1,\n",
       " 'Park': 1,\n",
       " 'be': 1,\n",
       " 'easy': 1,\n",
       " 'am': 1,\n",
       " 'size': 1,\n",
       " 'away.': 1,\n",
       " 'bred': 1,\n",
       " 'knew.': 1,\n",
       " 'At': 1,\n",
       " 'hardly': 1,\n",
       " 'sister': 1,\n",
       " 'favour.': 1,\n",
       " 'As': 2,\n",
       " 'society': 1,\n",
       " 'explain': 1,\n",
       " 'country': 1,\n",
       " 'raising': 1,\n",
       " 'weather': 1,\n",
       " 'Sentiments': 1,\n",
       " 'nor': 1,\n",
       " 'everything': 1,\n",
       " 'off': 1,\n",
       " 'out': 1,\n",
       " 'partiality': 1,\n",
       " 'bed.': 1,\n",
       " 'Is': 1,\n",
       " 'we': 1,\n",
       " 'miles': 1,\n",
       " 'ready': 1,\n",
       " 'might': 1,\n",
       " 'going.': 1,\n",
       " 'Own': 1,\n",
       " 'books': 1,\n",
       " 'built': 1,\n",
       " 'put': 2,\n",
       " 'civil': 1,\n",
       " 'fully': 1,\n",
       " 'blind': 1,\n",
       " 'fanny.': 1,\n",
       " 'Projection': 1,\n",
       " 'appearance': 1,\n",
       " 'admiration': 1,\n",
       " 'no.': 1,\n",
       " 'totally': 1,\n",
       " 'cousins': 1,\n",
       " 'warrant': 1,\n",
       " 'besides': 1,\n",
       " 'ashamed': 1,\n",
       " 'do.': 1,\n",
       " 'Therefore': 1,\n",
       " 'by': 1,\n",
       " 'applauded': 1,\n",
       " 'acuteness': 1,\n",
       " 'supported': 2,\n",
       " 'it.': 1,\n",
       " 'Except': 1,\n",
       " 'sex': 1,\n",
       " 'limits': 1,\n",
       " 'county': 1,\n",
       " 'enough': 1,\n",
       " 'figure': 1,\n",
       " 'former': 1,\n",
       " 'add.': 1,\n",
       " 'Do': 2,\n",
       " 'sang': 1,\n",
       " 'my': 1,\n",
       " 'next': 1,\n",
       " 'soon.': 1,\n",
       " 'It': 1,\n",
       " 'merely': 1,\n",
       " 'waited': 1,\n",
       " 'do': 1,\n",
       " 'unable.': 1,\n",
       " 'An': 1,\n",
       " 'vulgar': 1,\n",
       " 'points': 1,\n",
       " 'wanted.': 1,\n",
       " 'Not': 1,\n",
       " 'rapturous': 1,\n",
       " 'resolving': 1,\n",
       " 'continued': 1,\n",
       " 'household': 1,\n",
       " 'northward': 1,\n",
       " 'gay.': 1,\n",
       " 'He': 1,\n",
       " 'otherwise': 1,\n",
       " 'instantly.': 1,\n",
       " 'Unfeeling': 1,\n",
       " 'agreeable': 1,\n",
       " 'suffering': 1,\n",
       " 'smallness': 1,\n",
       " 'newspaper': 1,\n",
       " 'be.': 1,\n",
       " 'So': 1,\n",
       " 'come': 1,\n",
       " 'must': 1,\n",
       " 'time': 1,\n",
       " 'as.': 1,\n",
       " 'unpleasing': 1,\n",
       " 'possession': 1,\n",
       " 'unreserved.': 1,\n",
       " 'Yet': 1,\n",
       " 'joy': 1,\n",
       " 'exquisite': 1,\n",
       " 'sometimes': 1,\n",
       " 'enjoyment': 1,\n",
       " 'perpetual': 1,\n",
       " 'now.': 1,\n",
       " 'Behind': 1,\n",
       " 'lovers': 1,\n",
       " 'eat': 1,\n",
       " 'having': 1,\n",
       " 'length': 1,\n",
       " 'horses': 1,\n",
       " 'vanity': 1,\n",
       " 'say': 1,\n",
       " 'its.': 1}"
      ]
     },
     "execution_count": 156,
     "metadata": {},
     "output_type": "execute_result"
    }
   ],
   "source": [
    "count_dic = {}\n",
    "for word in words:\n",
    "    count_dic[word] = count_dic.get(word, 0) + 1 \n",
    "count_dic"
   ]
  },
  {
   "cell_type": "code",
   "execution_count": 169,
   "metadata": {},
   "outputs": [
    {
     "data": {
      "text/plain": [
       "[(6, 'on'),\n",
       " (6, 'he'),\n",
       " (5, 'of'),\n",
       " (4, 'it'),\n",
       " (4, 'had'),\n",
       " (4, 'as'),\n",
       " (3, 'so'),\n",
       " (3, 'of.'),\n",
       " (3, 'fine'),\n",
       " (3, 'and'),\n",
       " (3, 'an'),\n",
       " (2, 'uncommonly'),\n",
       " (2, 'too'),\n",
       " (2, 'to'),\n",
       " (2, 'the'),\n",
       " (2, 'supported'),\n",
       " (2, 'put'),\n",
       " (2, 'no'),\n",
       " (2, 'mr'),\n",
       " (2, 'in'),\n",
       " (2, 'but.'),\n",
       " (2, 'at'),\n",
       " (2, 'are'),\n",
       " (2, 'affection'),\n",
       " (2, 'Him'),\n",
       " (2, 'Do'),\n",
       " (2, 'As'),\n",
       " (1, 'ye.'),\n",
       " (1, 'ye'),\n",
       " (1, 'wrong'),\n",
       " (1, 'wondered'),\n",
       " (1, 'winding'),\n",
       " (1, 'welcomed'),\n",
       " (1, 'weeks'),\n",
       " (1, 'weather'),\n",
       " (1, 'we'),\n",
       " (1, 'warrant'),\n",
       " (1, 'wanted.'),\n",
       " (1, 'waited'),\n",
       " (1, 'vulgar'),\n",
       " (1, 'village'),\n",
       " (1, 'vanity'),\n",
       " (1, 'valley'),\n",
       " (1, 'unreserved.'),\n",
       " (1, 'unpleasing'),\n",
       " (1, 'unlocked'),\n",
       " (1, 'unable.'),\n",
       " (1, 'totally'),\n",
       " (1, 'timed'),\n",
       " (1, 'time'),\n",
       " (1, 'this'),\n",
       " (1, 'there.'),\n",
       " (1, 'their'),\n",
       " (1, 'terminated'),\n",
       " (1, 'suffering'),\n",
       " (1, 'soon.'),\n",
       " (1, 'sometimes'),\n",
       " (1, 'something'),\n",
       " (1, 'society'),\n",
       " (1, 'smiling'),\n",
       " (1, 'smallness'),\n",
       " (1, 'size'),\n",
       " (1, 'sister'),\n",
       " (1, 'she.'),\n",
       " (1, 'shameless'),\n",
       " (1, 'sex'),\n",
       " (1, 'set'),\n",
       " (1, 'say'),\n",
       " (1, 'sang'),\n",
       " (1, 'resolving'),\n",
       " (1, 'resolved'),\n",
       " (1, 'ready'),\n",
       " (1, 'rapturous'),\n",
       " (1, 'raptures'),\n",
       " (1, 'rank.'),\n",
       " (1, 'raising'),\n",
       " (1, 'quick'),\n",
       " (1, 'put.'),\n",
       " (1, 'pure'),\n",
       " (1, 'prudent'),\n",
       " (1, 'provided'),\n",
       " (1, 'propriety'),\n",
       " (1, 'principles'),\n",
       " (1, 'possession'),\n",
       " (1, 'points'),\n",
       " (1, 'perpetual'),\n",
       " (1, 'performed'),\n",
       " (1, 'particular'),\n",
       " (1, 'partiality'),\n",
       " (1, 'parlors.'),\n",
       " (1, 'paid'),\n",
       " (1, 'out'),\n",
       " (1, 'otherwise'),\n",
       " (1, 'one'),\n",
       " (1, 'oh.'),\n",
       " (1, 'offence.'),\n",
       " (1, 'off'),\n",
       " (1, 'now.'),\n",
       " (1, 'northward'),\n",
       " (1, 'nor'),\n",
       " (1, 'no.'),\n",
       " (1, 'next'),\n",
       " (1, 'newspaper'),\n",
       " (1, 'necessary'),\n",
       " (1, 'name'),\n",
       " (1, 'my'),\n",
       " (1, 'must'),\n",
       " (1, 'mrs'),\n",
       " (1, 'motionless'),\n",
       " (1, 'miles'),\n",
       " (1, 'might'),\n",
       " (1, 'middletons'),\n",
       " (1, 'merits'),\n",
       " (1, 'merely'),\n",
       " (1, 'me'),\n",
       " (1, 'match.'),\n",
       " (1, 'manor'),\n",
       " (1, 'man'),\n",
       " (1, 'lovers'),\n",
       " (1, 'literature'),\n",
       " (1, 'limits'),\n",
       " (1, 'length'),\n",
       " (1, 'laughter.'),\n",
       " (1, 'knew.'),\n",
       " (1, 'joy.'),\n",
       " (1, 'joy'),\n",
       " (1, 'its.'),\n",
       " (1, 'its'),\n",
       " (1, 'it.'),\n",
       " (1, 'intention'),\n",
       " (1, 'instantly.'),\n",
       " (1, 'indeed'),\n",
       " (1, 'increasing'),\n",
       " (1, 'imprudence'),\n",
       " (1, 'improve'),\n",
       " (1, 'if'),\n",
       " (1, 'however'),\n",
       " (1, 'how'),\n",
       " (1, 'household'),\n",
       " (1, 'horses'),\n",
       " (1, 'horrible.'),\n",
       " (1, 'hoped'),\n",
       " (1, 'his'),\n",
       " (1, 'her'),\n",
       " (1, 'having'),\n",
       " (1, 'hardly'),\n",
       " (1, 'hard'),\n",
       " (1, 'greater'),\n",
       " (1, 'gone'),\n",
       " (1, 'going.'),\n",
       " (1, 'gay.'),\n",
       " (1, 'gay'),\n",
       " (1, 'fully'),\n",
       " (1, 'front'),\n",
       " (1, 'former'),\n",
       " (1, 'forbade'),\n",
       " (1, 'folly'),\n",
       " (1, 'figure'),\n",
       " (1, 'fifteen.'),\n",
       " (1, 'few'),\n",
       " (1, 'favour.'),\n",
       " (1, 'fanny.'),\n",
       " (1, 'extremity'),\n",
       " (1, 'exquisite'),\n",
       " (1, 'explain'),\n",
       " (1, 'expense'),\n",
       " (1, 'everything'),\n",
       " (1, 'enough'),\n",
       " (1, 'enjoyment'),\n",
       " (1, 'enjoy'),\n",
       " (1, 'eat'),\n",
       " (1, 'easy'),\n",
       " (1, 'earnestly'),\n",
       " (1, 'early'),\n",
       " (1, 'do.'),\n",
       " (1, 'do'),\n",
       " (1, 'discovery'),\n",
       " (1, 'discourse'),\n",
       " (1, 'differed'),\n",
       " (1, 'determine'),\n",
       " (1, 'demands'),\n",
       " (1, 'cousins'),\n",
       " (1, 'county'),\n",
       " (1, 'country'),\n",
       " (1, 'convinced'),\n",
       " (1, 'continued'),\n",
       " (1, 'contempt'),\n",
       " (1, 'consulted'),\n",
       " (1, 'connection'),\n",
       " (1, 'compact.'),\n",
       " (1, 'come'),\n",
       " (1, 'civil'),\n",
       " (1, 'celebrated'),\n",
       " (1, 'by'),\n",
       " (1, 'but'),\n",
       " (1, 'built'),\n",
       " (1, 'bred'),\n",
       " (1, 'books'),\n",
       " (1, 'boisterous'),\n",
       " (1, 'blind'),\n",
       " (1, 'betrayed'),\n",
       " (1, 'besides'),\n",
       " (1, 'bed.'),\n",
       " (1, 'be.'),\n",
       " (1, 'be'),\n",
       " (1, 'away.'),\n",
       " (1, 'attended'),\n",
       " (1, 'astonished'),\n",
       " (1, 'assure'),\n",
       " (1, 'ask'),\n",
       " (1, 'ashamed'),\n",
       " (1, 'as.'),\n",
       " (1, 'are.'),\n",
       " (1, 'applauded'),\n",
       " (1, 'appearance'),\n",
       " (1, 'am'),\n",
       " (1, 'although'),\n",
       " (1, 'all'),\n",
       " (1, 'agreeable'),\n",
       " (1, 'admitting'),\n",
       " (1, 'admiration.'),\n",
       " (1, 'admiration'),\n",
       " (1, 'add.'),\n",
       " (1, 'add'),\n",
       " (1, 'acuteness'),\n",
       " (1, 'Yet'),\n",
       " (1, 'Who'),\n",
       " (1, 'View'),\n",
       " (1, 'Unfeeling'),\n",
       " (1, 'Therefore'),\n",
       " (1, 'The'),\n",
       " (1, 'Stanhill'),\n",
       " (1, 'So'),\n",
       " (1, 'Sentiments'),\n",
       " (1, 'Projection'),\n",
       " (1, 'Pleasant'),\n",
       " (1, 'Park'),\n",
       " (1, 'Own'),\n",
       " (1, 'On'),\n",
       " (1, 'Not'),\n",
       " (1, 'New'),\n",
       " (1, 'Mirth'),\n",
       " (1, 'It'),\n",
       " (1, 'Is'),\n",
       " (1, 'Instrument'),\n",
       " (1, 'If'),\n",
       " (1, 'Hundred'),\n",
       " (1, 'Herself'),\n",
       " (1, 'Hearted'),\n",
       " (1, 'He'),\n",
       " (1, 'Has'),\n",
       " (1, 'Except'),\n",
       " (1, 'Early'),\n",
       " (1, 'Death'),\n",
       " (1, 'Dashwood'),\n",
       " (1, 'Compact'),\n",
       " (1, 'Behind'),\n",
       " (1, 'At'),\n",
       " (1, 'An'),\n",
       " (1, 'Age')]"
      ]
     },
     "execution_count": 169,
     "metadata": {},
     "output_type": "execute_result"
    }
   ],
   "source": [
    "r_count_dic = [(v, k) for k,v in count_dic.items()]\n",
    "r_count_dic_sorted = sorted(r_count_dic, reverse=True)\n",
    "r_count_dic_sorted"
   ]
  },
  {
   "cell_type": "code",
   "execution_count": 170,
   "metadata": {},
   "outputs": [
    {
     "data": {
      "text/plain": [
       "[(6, 'on'), (6, 'he'), (5, 'of'), (4, 'it'), (4, 'had')]"
      ]
     },
     "execution_count": 170,
     "metadata": {},
     "output_type": "execute_result"
    }
   ],
   "source": [
    "# top five most freq words \n",
    "r_count_dic_sorted[:5]"
   ]
  }
 ],
 "metadata": {
  "kernelspec": {
   "display_name": "Python 3",
   "language": "python",
   "name": "python3"
  },
  "language_info": {
   "codemirror_mode": {
    "name": "ipython",
    "version": 3
   },
   "file_extension": ".py",
   "mimetype": "text/x-python",
   "name": "python",
   "nbconvert_exporter": "python",
   "pygments_lexer": "ipython3",
   "version": "3.8.3"
  }
 },
 "nbformat": 4,
 "nbformat_minor": 4
}
