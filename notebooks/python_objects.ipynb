{
 "cells": [
  {
   "cell_type": "markdown",
   "metadata": {},
   "source": [
    "# python OOP\n",
    "\n",
    "## main concepts:\n",
    "\n",
    "* why?: \n",
    " * code reuse \n",
    " * modularity \n",
    " \n",
    "* what? \n",
    " * think on everything as an object (attributes & behavior) \n",
    " * Example: Person class:\n",
    "  * attributes: name, age, gender, score, tall, weight, eye color, ...... \n",
    "  * behavior: walk, jump, eat, sleep, write code, swim, run, ... \n",
    "  \n",
    " * Example: Pen \n",
    "  * attributes: color, type, material type, hight, width, bold .... \n",
    "  * behavior: write, erease, draw, mark, highlight, "
   ]
  },
  {
   "cell_type": "code",
   "execution_count": 1,
   "metadata": {},
   "outputs": [],
   "source": [
    "## synatax \n",
    "class A:\n",
    "    pass "
   ]
  },
  {
   "cell_type": "code",
   "execution_count": 2,
   "metadata": {},
   "outputs": [
    {
     "name": "stdout",
     "output_type": "stream",
     "text": [
      "['__add__', '__class__', '__contains__', '__delattr__', '__dir__', '__doc__', '__eq__', '__format__', '__ge__', '__getattribute__', '__getitem__', '__getnewargs__', '__gt__', '__hash__', '__init__', '__init_subclass__', '__iter__', '__le__', '__len__', '__lt__', '__mul__', '__ne__', '__new__', '__reduce__', '__reduce_ex__', '__repr__', '__rmul__', '__setattr__', '__sizeof__', '__str__', '__subclasshook__', 'count', 'index']\n"
     ]
    }
   ],
   "source": [
    "print(dir(tuple()))"
   ]
  },
  {
   "cell_type": "code",
   "execution_count": 3,
   "metadata": {},
   "outputs": [],
   "source": [
    "class Cat:\n",
    "    def __init__(self, color, name):\n",
    "        self.color = color\n",
    "        self.name = name \n",
    "    "
   ]
  },
  {
   "cell_type": "code",
   "execution_count": 7,
   "metadata": {},
   "outputs": [],
   "source": [
    "c1 = Cat('white', 'kitty')\n",
    "c2 = Cat(name='katy', color='brown')"
   ]
  },
  {
   "cell_type": "code",
   "execution_count": 9,
   "metadata": {},
   "outputs": [
    {
     "name": "stdout",
     "output_type": "stream",
     "text": [
      "[1, 2, 3] 10\n"
     ]
    }
   ],
   "source": [
    "l1 = [1,2,3]; x = 10 \n",
    "print(l1, x)"
   ]
  },
  {
   "cell_type": "code",
   "execution_count": 10,
   "metadata": {},
   "outputs": [
    {
     "name": "stdout",
     "output_type": "stream",
     "text": [
      "<__main__.Cat object at 0x00000247D823B880>\n",
      "<__main__.Cat object at 0x00000247D823B1F0>\n"
     ]
    }
   ],
   "source": [
    "print(c1)\n",
    "print(c2)"
   ]
  },
  {
   "cell_type": "code",
   "execution_count": 11,
   "metadata": {},
   "outputs": [],
   "source": [
    "class Cat:\n",
    "    def __init__(self, color, name):\n",
    "        self.color = color\n",
    "        self.name = name \n",
    "    def __str__(self):\n",
    "        return 'name: {}, color:{}'.format(self.name, self.color)"
   ]
  },
  {
   "cell_type": "code",
   "execution_count": 12,
   "metadata": {},
   "outputs": [
    {
     "name": "stdout",
     "output_type": "stream",
     "text": [
      "name: kitty, color:white\n",
      "name: katy, color:brown\n"
     ]
    }
   ],
   "source": [
    "c1 = Cat('white', 'kitty')\n",
    "c2 = Cat(name='katy', color='brown')\n",
    "print(c1)\n",
    "print(c2)"
   ]
  },
  {
   "cell_type": "code",
   "execution_count": 14,
   "metadata": {},
   "outputs": [],
   "source": [
    "class Cat:\n",
    "    def __init__(self, color, name):\n",
    "        self.color = color\n",
    "        self.name = name \n",
    "    def __str__(self):\n",
    "        return 'name: {}, color:{}'.format(self.name, self.color)\n",
    "    \n",
    "    def speak(self):\n",
    "        print('mewo')\n",
    "        \n",
    "    def run(self):\n",
    "        print('mewo, I am running')  "
   ]
  },
  {
   "cell_type": "code",
   "execution_count": 15,
   "metadata": {},
   "outputs": [
    {
     "name": "stdout",
     "output_type": "stream",
     "text": [
      "name: kitty, color:grey\n",
      "mewo\n",
      "mewo, I am running\n"
     ]
    }
   ],
   "source": [
    "c1 = Cat(name='kitty', color='grey')\n",
    "print(c1)\n",
    "c1.speak()\n",
    "c1.run()"
   ]
  },
  {
   "cell_type": "code",
   "execution_count": 16,
   "metadata": {},
   "outputs": [],
   "source": [
    "class Cat:\n",
    "    def __init__(self, name, color, age):\n",
    "        self.color = color\n",
    "        self.name = name \n",
    "        self.age = age \n",
    "    def __str__(self):\n",
    "        return 'name: {}, color:{}, age:{}'.format(self.name, self.color, self.age)\n",
    "    \n",
    "    def speak(self):\n",
    "        print('mewo')\n",
    "        \n",
    "    def run(self):\n",
    "        print('mewo, I am running')  \n",
    "        \n",
    "    def __gt__(self, cat):\n",
    "        return self.age > cat.age \n"
   ]
  },
  {
   "cell_type": "code",
   "execution_count": 18,
   "metadata": {},
   "outputs": [
    {
     "data": {
      "text/plain": [
       "True"
      ]
     },
     "execution_count": 18,
     "metadata": {},
     "output_type": "execute_result"
    }
   ],
   "source": [
    "c1 = Cat(name='kitty', color='grey', age=7)\n",
    "c2 = Cat(name='katy', color='brown', age=4)\n",
    "c1 > c2 "
   ]
  },
  {
   "cell_type": "code",
   "execution_count": 19,
   "metadata": {},
   "outputs": [
    {
     "data": {
      "text/plain": [
       "False"
      ]
     },
     "execution_count": 19,
     "metadata": {},
     "output_type": "execute_result"
    }
   ],
   "source": [
    "x1 = 10 \n",
    "x2 = 20 \n",
    "x1 > x2"
   ]
  },
  {
   "cell_type": "markdown",
   "metadata": {},
   "source": [
    "## Inheritance "
   ]
  },
  {
   "cell_type": "code",
   "execution_count": null,
   "metadata": {},
   "outputs": [],
   "source": [
    "# syntax \n",
    "class A: # super class \n",
    "    pass \n",
    "\n",
    "class B(A): # sub class \n",
    "    pass "
   ]
  },
  {
   "cell_type": "code",
   "execution_count": 21,
   "metadata": {},
   "outputs": [],
   "source": [
    "class Rectangle:\n",
    "    def __init__(self, hight=0, width=0):\n",
    "        self.hight = hight\n",
    "        self.width = width\n",
    "    \n",
    "    def __str__(self):\n",
    "        return 'h:{}, w:{}'.format(self.hight, self.width)\n",
    "    \n",
    "    def get_area(self):\n",
    "        return self.hight * self.width   "
   ]
  },
  {
   "cell_type": "code",
   "execution_count": 22,
   "metadata": {},
   "outputs": [
    {
     "name": "stdout",
     "output_type": "stream",
     "text": [
      "h:0, w:0\n",
      "h:4, w:3\n",
      "h:7, w:5\n",
      "h:3, w:5\n"
     ]
    }
   ],
   "source": [
    "r1 = Rectangle()\n",
    "r2 = Rectangle(4, 3)\n",
    "r3 = Rectangle(hight=7, width=5)\n",
    "r4 = Rectangle(width=5, hight=3)\n",
    "print(r1)\n",
    "print(r2)\n",
    "print(r3)\n",
    "print(r4)"
   ]
  },
  {
   "cell_type": "code",
   "execution_count": 23,
   "metadata": {},
   "outputs": [
    {
     "name": "stdout",
     "output_type": "stream",
     "text": [
      "35\n"
     ]
    }
   ],
   "source": [
    "print(r3.get_area())"
   ]
  },
  {
   "cell_type": "code",
   "execution_count": 24,
   "metadata": {},
   "outputs": [],
   "source": [
    "class Square(Rectangle):\n",
    "    def __init__(self, x):\n",
    "        super().__init__(x, x)"
   ]
  },
  {
   "cell_type": "code",
   "execution_count": 25,
   "metadata": {},
   "outputs": [
    {
     "name": "stdout",
     "output_type": "stream",
     "text": [
      "h:3, w:3\n",
      "9\n"
     ]
    }
   ],
   "source": [
    "s1 = Square(3)\n",
    "print(s1)\n",
    "print(s1.get_area())"
   ]
  }
 ],
 "metadata": {
  "kernelspec": {
   "display_name": "Python 3",
   "language": "python",
   "name": "python3"
  },
  "language_info": {
   "codemirror_mode": {
    "name": "ipython",
    "version": 3
   },
   "file_extension": ".py",
   "mimetype": "text/x-python",
   "name": "python",
   "nbconvert_exporter": "python",
   "pygments_lexer": "ipython3",
   "version": "3.8.3"
  }
 },
 "nbformat": 4,
 "nbformat_minor": 4
}
